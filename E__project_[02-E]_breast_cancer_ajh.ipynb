{
 "cells": [
  {
   "cell_type": "code",
   "execution_count": 4,
   "id": "0df4fd71",
   "metadata": {},
   "outputs": [
    {
     "name": "stdout",
     "output_type": "stream",
     "text": [
      "['DESCR', 'data', 'data_module', 'feature_names', 'filename', 'frame', 'target', 'target_names']\n"
     ]
    }
   ],
   "source": [
    "from sklearn.datasets import load_breast_cancer\n",
    "\n",
    "breast_cancer = load_breast_cancer()   # 데이터 준비하기\n",
    "\n",
    "print(dir(breast_cancer))\n",
    "# dir()는 객체가 어떤 변수와 메서드를 가지고 있는지 나열함"
   ]
  },
  {
   "cell_type": "code",
   "execution_count": 5,
   "id": "53c37569",
   "metadata": {},
   "outputs": [
    {
     "data": {
      "text/plain": [
       "dict_keys(['data', 'target', 'frame', 'target_names', 'DESCR', 'feature_names', 'filename', 'data_module'])"
      ]
     },
     "execution_count": 5,
     "metadata": {},
     "output_type": "execute_result"
    }
   ],
   "source": [
    "breast_cancer.keys()"
   ]
  },
  {
   "cell_type": "code",
   "execution_count": 6,
   "id": "70bd0452",
   "metadata": {},
   "outputs": [
    {
     "name": "stdout",
     "output_type": "stream",
     "text": [
      "(569, 30)\n"
     ]
    }
   ],
   "source": [
    "breast_cancer_data = breast_cancer.data\n",
    "\n",
    "print(breast_cancer_data.shape) \n",
    "#shape는 배열의 형상정보를 출력"
   ]
  },
  {
   "cell_type": "code",
   "execution_count": 7,
   "id": "ca41c770",
   "metadata": {},
   "outputs": [
    {
     "data": {
      "text/plain": [
       "array([1.799e+01, 1.038e+01, 1.228e+02, 1.001e+03, 1.184e-01, 2.776e-01,\n",
       "       3.001e-01, 1.471e-01, 2.419e-01, 7.871e-02, 1.095e+00, 9.053e-01,\n",
       "       8.589e+00, 1.534e+02, 6.399e-03, 4.904e-02, 5.373e-02, 1.587e-02,\n",
       "       3.003e-02, 6.193e-03, 2.538e+01, 1.733e+01, 1.846e+02, 2.019e+03,\n",
       "       1.622e-01, 6.656e-01, 7.119e-01, 2.654e-01, 4.601e-01, 1.189e-01])"
      ]
     },
     "execution_count": 7,
     "metadata": {},
     "output_type": "execute_result"
    }
   ],
   "source": [
    "breast_cancer_data[0]    #30개에 대한 정보 1줄 보기"
   ]
  },
  {
   "cell_type": "code",
   "execution_count": 8,
   "id": "3ccd5664",
   "metadata": {},
   "outputs": [
    {
     "data": {
      "text/plain": [
       "array([1.799e+01, 1.038e+01, 1.228e+02, 1.001e+03, 1.184e-01, 2.776e-01,\n",
       "       3.001e-01, 1.471e-01, 2.419e-01, 7.871e-02, 1.095e+00, 9.053e-01,\n",
       "       8.589e+00, 1.534e+02, 6.399e-03, 4.904e-02, 5.373e-02, 1.587e-02,\n",
       "       3.003e-02, 6.193e-03, 2.538e+01, 1.733e+01, 1.846e+02, 2.019e+03,\n",
       "       1.622e-01, 6.656e-01, 7.119e-01, 2.654e-01, 4.601e-01, 1.189e-01])"
      ]
     },
     "execution_count": 8,
     "metadata": {},
     "output_type": "execute_result"
    }
   ],
   "source": [
    "breast_cancer_data[0] # 0번 index 정보 확인"
   ]
  },
  {
   "cell_type": "code",
   "execution_count": 10,
   "id": "f9f61022",
   "metadata": {},
   "outputs": [
    {
     "name": "stdout",
     "output_type": "stream",
     "text": [
      "(569,)\n"
     ]
    },
    {
     "data": {
      "text/plain": [
       "array([0, 0, 0, 0, 0, 0, 0, 0, 0, 0, 0, 0, 0, 0, 0, 0, 0, 0, 0, 1, 1, 1,\n",
       "       0, 0, 0, 0, 0, 0, 0, 0, 0, 0, 0, 0, 0, 0, 0, 1, 0, 0, 0, 0, 0, 0,\n",
       "       0, 0, 1, 0, 1, 1, 1, 1, 1, 0, 0, 1, 0, 0, 1, 1, 1, 1, 0, 1, 0, 0,\n",
       "       1, 1, 1, 1, 0, 1, 0, 0, 1, 0, 1, 0, 0, 1, 1, 1, 0, 0, 1, 0, 0, 0,\n",
       "       1, 1, 1, 0, 1, 1, 0, 0, 1, 1, 1, 0, 0, 1, 1, 1, 1, 0, 1, 1, 0, 1,\n",
       "       1, 1, 1, 1, 1, 1, 1, 0, 0, 0, 1, 0, 0, 1, 1, 1, 0, 0, 1, 0, 1, 0,\n",
       "       0, 1, 0, 0, 1, 1, 0, 1, 1, 0, 1, 1, 1, 1, 0, 1, 1, 1, 1, 1, 1, 1,\n",
       "       1, 1, 0, 1, 1, 1, 1, 0, 0, 1, 0, 1, 1, 0, 0, 1, 1, 0, 0, 1, 1, 1,\n",
       "       1, 0, 1, 1, 0, 0, 0, 1, 0, 1, 0, 1, 1, 1, 0, 1, 1, 0, 0, 1, 0, 0,\n",
       "       0, 0, 1, 0, 0, 0, 1, 0, 1, 0, 1, 1, 0, 1, 0, 0, 0, 0, 1, 1, 0, 0,\n",
       "       1, 1, 1, 0, 1, 1, 1, 1, 1, 0, 0, 1, 1, 0, 1, 1, 0, 0, 1, 0, 1, 1,\n",
       "       1, 1, 0, 1, 1, 1, 1, 1, 0, 1, 0, 0, 0, 0, 0, 0, 0, 0, 0, 0, 0, 0,\n",
       "       0, 0, 1, 1, 1, 1, 1, 1, 0, 1, 0, 1, 1, 0, 1, 1, 0, 1, 0, 0, 1, 1,\n",
       "       1, 1, 1, 1, 1, 1, 1, 1, 1, 1, 1, 0, 1, 1, 0, 1, 0, 1, 1, 1, 1, 1,\n",
       "       1, 1, 1, 1, 1, 1, 1, 1, 1, 0, 1, 1, 1, 0, 1, 0, 1, 1, 1, 1, 0, 0,\n",
       "       0, 1, 1, 1, 1, 0, 1, 0, 1, 0, 1, 1, 1, 0, 1, 1, 1, 1, 1, 1, 1, 0,\n",
       "       0, 0, 1, 1, 1, 1, 1, 1, 1, 1, 1, 1, 1, 0, 0, 1, 0, 0, 0, 1, 0, 0,\n",
       "       1, 1, 1, 1, 1, 0, 1, 1, 1, 1, 1, 0, 1, 1, 1, 0, 1, 1, 0, 0, 1, 1,\n",
       "       1, 1, 1, 1, 0, 1, 1, 1, 1, 1, 1, 1, 0, 1, 1, 1, 1, 1, 0, 1, 1, 0,\n",
       "       1, 1, 1, 1, 1, 1, 1, 1, 1, 1, 1, 1, 0, 1, 0, 0, 1, 0, 1, 1, 1, 1,\n",
       "       1, 0, 1, 1, 0, 1, 0, 1, 1, 0, 1, 0, 1, 1, 1, 1, 1, 1, 1, 1, 0, 0,\n",
       "       1, 1, 1, 1, 1, 1, 0, 1, 1, 1, 1, 1, 1, 1, 1, 1, 1, 0, 1, 1, 1, 1,\n",
       "       1, 1, 1, 0, 1, 0, 1, 1, 0, 1, 1, 1, 1, 1, 0, 0, 1, 0, 1, 0, 1, 1,\n",
       "       1, 1, 1, 0, 1, 1, 0, 1, 0, 1, 0, 0, 1, 1, 1, 0, 1, 1, 1, 1, 1, 1,\n",
       "       1, 1, 1, 1, 1, 0, 1, 0, 0, 1, 1, 1, 1, 1, 1, 1, 1, 1, 1, 1, 1, 1,\n",
       "       1, 1, 1, 1, 1, 1, 1, 1, 1, 1, 1, 1, 0, 0, 0, 0, 0, 0, 1])"
      ]
     },
     "execution_count": 10,
     "metadata": {},
     "output_type": "execute_result"
    }
   ],
   "source": [
    "# label data 지정하기\n",
    "breast_cancer_label = breast_cancer.target\n",
    "print(breast_cancer_label.shape)\n",
    "breast_cancer_label   # 타겟정보 보기 : 머신러닝 모델이 출력해야 하는 정답을 라벨(label) 또는 타겟(target)이라 한다. 569개의 정보가 있고 0,1로 표현됨"
   ]
  },
  {
   "cell_type": "code",
   "execution_count": 11,
   "id": "1f0ded4a",
   "metadata": {},
   "outputs": [
    {
     "data": {
      "text/plain": [
       "array(['malignant', 'benign'], dtype='<U9')"
      ]
     },
     "execution_count": 11,
     "metadata": {},
     "output_type": "execute_result"
    }
   ],
   "source": [
    "# breast_cancer 타겟 이름 출력하기\n",
    "breast_cancer.target_names   # , 악성종양 malignant', '양성종양 benign"
   ]
  },
  {
   "cell_type": "code",
   "execution_count": 12,
   "id": "add7aef3",
   "metadata": {},
   "outputs": [
    {
     "name": "stdout",
     "output_type": "stream",
     "text": [
      ".. _breast_cancer_dataset:\n",
      "\n",
      "Breast cancer wisconsin (diagnostic) dataset\n",
      "--------------------------------------------\n",
      "\n",
      "**Data Set Characteristics:**\n",
      "\n",
      "    :Number of Instances: 569\n",
      "\n",
      "    :Number of Attributes: 30 numeric, predictive attributes and the class\n",
      "\n",
      "    :Attribute Information:\n",
      "        - radius (mean of distances from center to points on the perimeter)\n",
      "        - texture (standard deviation of gray-scale values)\n",
      "        - perimeter\n",
      "        - area\n",
      "        - smoothness (local variation in radius lengths)\n",
      "        - compactness (perimeter^2 / area - 1.0)\n",
      "        - concavity (severity of concave portions of the contour)\n",
      "        - concave points (number of concave portions of the contour)\n",
      "        - symmetry\n",
      "        - fractal dimension (\"coastline approximation\" - 1)\n",
      "\n",
      "        The mean, standard error, and \"worst\" or largest (mean of the three\n",
      "        worst/largest values) of these features were computed for each image,\n",
      "        resulting in 30 features.  For instance, field 0 is Mean Radius, field\n",
      "        10 is Radius SE, field 20 is Worst Radius.\n",
      "\n",
      "        - class:\n",
      "                - WDBC-Malignant\n",
      "                - WDBC-Benign\n",
      "\n",
      "    :Summary Statistics:\n",
      "\n",
      "    ===================================== ====== ======\n",
      "                                           Min    Max\n",
      "    ===================================== ====== ======\n",
      "    radius (mean):                        6.981  28.11\n",
      "    texture (mean):                       9.71   39.28\n",
      "    perimeter (mean):                     43.79  188.5\n",
      "    area (mean):                          143.5  2501.0\n",
      "    smoothness (mean):                    0.053  0.163\n",
      "    compactness (mean):                   0.019  0.345\n",
      "    concavity (mean):                     0.0    0.427\n",
      "    concave points (mean):                0.0    0.201\n",
      "    symmetry (mean):                      0.106  0.304\n",
      "    fractal dimension (mean):             0.05   0.097\n",
      "    radius (standard error):              0.112  2.873\n",
      "    texture (standard error):             0.36   4.885\n",
      "    perimeter (standard error):           0.757  21.98\n",
      "    area (standard error):                6.802  542.2\n",
      "    smoothness (standard error):          0.002  0.031\n",
      "    compactness (standard error):         0.002  0.135\n",
      "    concavity (standard error):           0.0    0.396\n",
      "    concave points (standard error):      0.0    0.053\n",
      "    symmetry (standard error):            0.008  0.079\n",
      "    fractal dimension (standard error):   0.001  0.03\n",
      "    radius (worst):                       7.93   36.04\n",
      "    texture (worst):                      12.02  49.54\n",
      "    perimeter (worst):                    50.41  251.2\n",
      "    area (worst):                         185.2  4254.0\n",
      "    smoothness (worst):                   0.071  0.223\n",
      "    compactness (worst):                  0.027  1.058\n",
      "    concavity (worst):                    0.0    1.252\n",
      "    concave points (worst):               0.0    0.291\n",
      "    symmetry (worst):                     0.156  0.664\n",
      "    fractal dimension (worst):            0.055  0.208\n",
      "    ===================================== ====== ======\n",
      "\n",
      "    :Missing Attribute Values: None\n",
      "\n",
      "    :Class Distribution: 212 - Malignant, 357 - Benign\n",
      "\n",
      "    :Creator:  Dr. William H. Wolberg, W. Nick Street, Olvi L. Mangasarian\n",
      "\n",
      "    :Donor: Nick Street\n",
      "\n",
      "    :Date: November, 1995\n",
      "\n",
      "This is a copy of UCI ML Breast Cancer Wisconsin (Diagnostic) datasets.\n",
      "https://goo.gl/U2Uwz2\n",
      "\n",
      "Features are computed from a digitized image of a fine needle\n",
      "aspirate (FNA) of a breast mass.  They describe\n",
      "characteristics of the cell nuclei present in the image.\n",
      "\n",
      "Separating plane described above was obtained using\n",
      "Multisurface Method-Tree (MSM-T) [K. P. Bennett, \"Decision Tree\n",
      "Construction Via Linear Programming.\" Proceedings of the 4th\n",
      "Midwest Artificial Intelligence and Cognitive Science Society,\n",
      "pp. 97-101, 1992], a classification method which uses linear\n",
      "programming to construct a decision tree.  Relevant features\n",
      "were selected using an exhaustive search in the space of 1-4\n",
      "features and 1-3 separating planes.\n",
      "\n",
      "The actual linear program used to obtain the separating plane\n",
      "in the 3-dimensional space is that described in:\n",
      "[K. P. Bennett and O. L. Mangasarian: \"Robust Linear\n",
      "Programming Discrimination of Two Linearly Inseparable Sets\",\n",
      "Optimization Methods and Software 1, 1992, 23-34].\n",
      "\n",
      "This database is also available through the UW CS ftp server:\n",
      "\n",
      "ftp ftp.cs.wisc.edu\n",
      "cd math-prog/cpo-dataset/machine-learn/WDBC/\n",
      "\n",
      ".. topic:: References\n",
      "\n",
      "   - W.N. Street, W.H. Wolberg and O.L. Mangasarian. Nuclear feature extraction \n",
      "     for breast tumor diagnosis. IS&T/SPIE 1993 International Symposium on \n",
      "     Electronic Imaging: Science and Technology, volume 1905, pages 861-870,\n",
      "     San Jose, CA, 1993.\n",
      "   - O.L. Mangasarian, W.N. Street and W.H. Wolberg. Breast cancer diagnosis and \n",
      "     prognosis via linear programming. Operations Research, 43(4), pages 570-577, \n",
      "     July-August 1995.\n",
      "   - W.H. Wolberg, W.N. Street, and O.L. Mangasarian. Machine learning techniques\n",
      "     to diagnose breast cancer from fine-needle aspirates. Cancer Letters 77 (1994) \n",
      "     163-171.\n"
     ]
    }
   ],
   "source": [
    "# 데이타 describe 해 보기\n",
    "print(breast_cancer.DESCR)    # ,  다른 변수들도 확인"
   ]
  },
  {
   "cell_type": "code",
   "execution_count": 13,
   "id": "e65da787",
   "metadata": {},
   "outputs": [
    {
     "data": {
      "text/plain": [
       "array(['mean radius', 'mean texture', 'mean perimeter', 'mean area',\n",
       "       'mean smoothness', 'mean compactness', 'mean concavity',\n",
       "       'mean concave points', 'mean symmetry', 'mean fractal dimension',\n",
       "       'radius error', 'texture error', 'perimeter error', 'area error',\n",
       "       'smoothness error', 'compactness error', 'concavity error',\n",
       "       'concave points error', 'symmetry error',\n",
       "       'fractal dimension error', 'worst radius', 'worst texture',\n",
       "       'worst perimeter', 'worst area', 'worst smoothness',\n",
       "       'worst compactness', 'worst concavity', 'worst concave points',\n",
       "       'worst symmetry', 'worst fractal dimension'], dtype='<U23')"
      ]
     },
     "execution_count": 13,
     "metadata": {},
     "output_type": "execute_result"
    }
   ],
   "source": [
    "breast_cancer.feature_names   # 30개의  feature에 관한 설명"
   ]
  },
  {
   "cell_type": "code",
   "execution_count": 14,
   "id": "cdd6abfc",
   "metadata": {},
   "outputs": [
    {
     "data": {
      "text/plain": [
       "'breast_cancer.csv'"
      ]
     },
     "execution_count": 14,
     "metadata": {},
     "output_type": "execute_result"
    }
   ],
   "source": [
    "breast_cancer.filename    # 데이타셋의 전체이름, csv로 저장된 파일"
   ]
  },
  {
   "cell_type": "code",
   "execution_count": 15,
   "id": "2cee3eb2",
   "metadata": {},
   "outputs": [
    {
     "name": "stdout",
     "output_type": "stream",
     "text": [
      "1.3.3\n"
     ]
    }
   ],
   "source": [
    "import pandas as pd\n",
    "\n",
    "print(pd.__version__)"
   ]
  },
  {
   "cell_type": "code",
   "execution_count": 16,
   "id": "313a29c0",
   "metadata": {},
   "outputs": [
    {
     "data": {
      "text/html": [
       "<div>\n",
       "<style scoped>\n",
       "    .dataframe tbody tr th:only-of-type {\n",
       "        vertical-align: middle;\n",
       "    }\n",
       "\n",
       "    .dataframe tbody tr th {\n",
       "        vertical-align: top;\n",
       "    }\n",
       "\n",
       "    .dataframe thead th {\n",
       "        text-align: right;\n",
       "    }\n",
       "</style>\n",
       "<table border=\"1\" class=\"dataframe\">\n",
       "  <thead>\n",
       "    <tr style=\"text-align: right;\">\n",
       "      <th></th>\n",
       "      <th>mean radius</th>\n",
       "      <th>mean texture</th>\n",
       "      <th>mean perimeter</th>\n",
       "      <th>mean area</th>\n",
       "      <th>mean smoothness</th>\n",
       "      <th>mean compactness</th>\n",
       "      <th>mean concavity</th>\n",
       "      <th>mean concave points</th>\n",
       "      <th>mean symmetry</th>\n",
       "      <th>mean fractal dimension</th>\n",
       "      <th>...</th>\n",
       "      <th>worst radius</th>\n",
       "      <th>worst texture</th>\n",
       "      <th>worst perimeter</th>\n",
       "      <th>worst area</th>\n",
       "      <th>worst smoothness</th>\n",
       "      <th>worst compactness</th>\n",
       "      <th>worst concavity</th>\n",
       "      <th>worst concave points</th>\n",
       "      <th>worst symmetry</th>\n",
       "      <th>worst fractal dimension</th>\n",
       "    </tr>\n",
       "  </thead>\n",
       "  <tbody>\n",
       "    <tr>\n",
       "      <th>0</th>\n",
       "      <td>17.99</td>\n",
       "      <td>10.38</td>\n",
       "      <td>122.80</td>\n",
       "      <td>1001.0</td>\n",
       "      <td>0.11840</td>\n",
       "      <td>0.27760</td>\n",
       "      <td>0.30010</td>\n",
       "      <td>0.14710</td>\n",
       "      <td>0.2419</td>\n",
       "      <td>0.07871</td>\n",
       "      <td>...</td>\n",
       "      <td>25.380</td>\n",
       "      <td>17.33</td>\n",
       "      <td>184.60</td>\n",
       "      <td>2019.0</td>\n",
       "      <td>0.16220</td>\n",
       "      <td>0.66560</td>\n",
       "      <td>0.7119</td>\n",
       "      <td>0.2654</td>\n",
       "      <td>0.4601</td>\n",
       "      <td>0.11890</td>\n",
       "    </tr>\n",
       "    <tr>\n",
       "      <th>1</th>\n",
       "      <td>20.57</td>\n",
       "      <td>17.77</td>\n",
       "      <td>132.90</td>\n",
       "      <td>1326.0</td>\n",
       "      <td>0.08474</td>\n",
       "      <td>0.07864</td>\n",
       "      <td>0.08690</td>\n",
       "      <td>0.07017</td>\n",
       "      <td>0.1812</td>\n",
       "      <td>0.05667</td>\n",
       "      <td>...</td>\n",
       "      <td>24.990</td>\n",
       "      <td>23.41</td>\n",
       "      <td>158.80</td>\n",
       "      <td>1956.0</td>\n",
       "      <td>0.12380</td>\n",
       "      <td>0.18660</td>\n",
       "      <td>0.2416</td>\n",
       "      <td>0.1860</td>\n",
       "      <td>0.2750</td>\n",
       "      <td>0.08902</td>\n",
       "    </tr>\n",
       "    <tr>\n",
       "      <th>2</th>\n",
       "      <td>19.69</td>\n",
       "      <td>21.25</td>\n",
       "      <td>130.00</td>\n",
       "      <td>1203.0</td>\n",
       "      <td>0.10960</td>\n",
       "      <td>0.15990</td>\n",
       "      <td>0.19740</td>\n",
       "      <td>0.12790</td>\n",
       "      <td>0.2069</td>\n",
       "      <td>0.05999</td>\n",
       "      <td>...</td>\n",
       "      <td>23.570</td>\n",
       "      <td>25.53</td>\n",
       "      <td>152.50</td>\n",
       "      <td>1709.0</td>\n",
       "      <td>0.14440</td>\n",
       "      <td>0.42450</td>\n",
       "      <td>0.4504</td>\n",
       "      <td>0.2430</td>\n",
       "      <td>0.3613</td>\n",
       "      <td>0.08758</td>\n",
       "    </tr>\n",
       "    <tr>\n",
       "      <th>3</th>\n",
       "      <td>11.42</td>\n",
       "      <td>20.38</td>\n",
       "      <td>77.58</td>\n",
       "      <td>386.1</td>\n",
       "      <td>0.14250</td>\n",
       "      <td>0.28390</td>\n",
       "      <td>0.24140</td>\n",
       "      <td>0.10520</td>\n",
       "      <td>0.2597</td>\n",
       "      <td>0.09744</td>\n",
       "      <td>...</td>\n",
       "      <td>14.910</td>\n",
       "      <td>26.50</td>\n",
       "      <td>98.87</td>\n",
       "      <td>567.7</td>\n",
       "      <td>0.20980</td>\n",
       "      <td>0.86630</td>\n",
       "      <td>0.6869</td>\n",
       "      <td>0.2575</td>\n",
       "      <td>0.6638</td>\n",
       "      <td>0.17300</td>\n",
       "    </tr>\n",
       "    <tr>\n",
       "      <th>4</th>\n",
       "      <td>20.29</td>\n",
       "      <td>14.34</td>\n",
       "      <td>135.10</td>\n",
       "      <td>1297.0</td>\n",
       "      <td>0.10030</td>\n",
       "      <td>0.13280</td>\n",
       "      <td>0.19800</td>\n",
       "      <td>0.10430</td>\n",
       "      <td>0.1809</td>\n",
       "      <td>0.05883</td>\n",
       "      <td>...</td>\n",
       "      <td>22.540</td>\n",
       "      <td>16.67</td>\n",
       "      <td>152.20</td>\n",
       "      <td>1575.0</td>\n",
       "      <td>0.13740</td>\n",
       "      <td>0.20500</td>\n",
       "      <td>0.4000</td>\n",
       "      <td>0.1625</td>\n",
       "      <td>0.2364</td>\n",
       "      <td>0.07678</td>\n",
       "    </tr>\n",
       "    <tr>\n",
       "      <th>...</th>\n",
       "      <td>...</td>\n",
       "      <td>...</td>\n",
       "      <td>...</td>\n",
       "      <td>...</td>\n",
       "      <td>...</td>\n",
       "      <td>...</td>\n",
       "      <td>...</td>\n",
       "      <td>...</td>\n",
       "      <td>...</td>\n",
       "      <td>...</td>\n",
       "      <td>...</td>\n",
       "      <td>...</td>\n",
       "      <td>...</td>\n",
       "      <td>...</td>\n",
       "      <td>...</td>\n",
       "      <td>...</td>\n",
       "      <td>...</td>\n",
       "      <td>...</td>\n",
       "      <td>...</td>\n",
       "      <td>...</td>\n",
       "      <td>...</td>\n",
       "    </tr>\n",
       "    <tr>\n",
       "      <th>564</th>\n",
       "      <td>21.56</td>\n",
       "      <td>22.39</td>\n",
       "      <td>142.00</td>\n",
       "      <td>1479.0</td>\n",
       "      <td>0.11100</td>\n",
       "      <td>0.11590</td>\n",
       "      <td>0.24390</td>\n",
       "      <td>0.13890</td>\n",
       "      <td>0.1726</td>\n",
       "      <td>0.05623</td>\n",
       "      <td>...</td>\n",
       "      <td>25.450</td>\n",
       "      <td>26.40</td>\n",
       "      <td>166.10</td>\n",
       "      <td>2027.0</td>\n",
       "      <td>0.14100</td>\n",
       "      <td>0.21130</td>\n",
       "      <td>0.4107</td>\n",
       "      <td>0.2216</td>\n",
       "      <td>0.2060</td>\n",
       "      <td>0.07115</td>\n",
       "    </tr>\n",
       "    <tr>\n",
       "      <th>565</th>\n",
       "      <td>20.13</td>\n",
       "      <td>28.25</td>\n",
       "      <td>131.20</td>\n",
       "      <td>1261.0</td>\n",
       "      <td>0.09780</td>\n",
       "      <td>0.10340</td>\n",
       "      <td>0.14400</td>\n",
       "      <td>0.09791</td>\n",
       "      <td>0.1752</td>\n",
       "      <td>0.05533</td>\n",
       "      <td>...</td>\n",
       "      <td>23.690</td>\n",
       "      <td>38.25</td>\n",
       "      <td>155.00</td>\n",
       "      <td>1731.0</td>\n",
       "      <td>0.11660</td>\n",
       "      <td>0.19220</td>\n",
       "      <td>0.3215</td>\n",
       "      <td>0.1628</td>\n",
       "      <td>0.2572</td>\n",
       "      <td>0.06637</td>\n",
       "    </tr>\n",
       "    <tr>\n",
       "      <th>566</th>\n",
       "      <td>16.60</td>\n",
       "      <td>28.08</td>\n",
       "      <td>108.30</td>\n",
       "      <td>858.1</td>\n",
       "      <td>0.08455</td>\n",
       "      <td>0.10230</td>\n",
       "      <td>0.09251</td>\n",
       "      <td>0.05302</td>\n",
       "      <td>0.1590</td>\n",
       "      <td>0.05648</td>\n",
       "      <td>...</td>\n",
       "      <td>18.980</td>\n",
       "      <td>34.12</td>\n",
       "      <td>126.70</td>\n",
       "      <td>1124.0</td>\n",
       "      <td>0.11390</td>\n",
       "      <td>0.30940</td>\n",
       "      <td>0.3403</td>\n",
       "      <td>0.1418</td>\n",
       "      <td>0.2218</td>\n",
       "      <td>0.07820</td>\n",
       "    </tr>\n",
       "    <tr>\n",
       "      <th>567</th>\n",
       "      <td>20.60</td>\n",
       "      <td>29.33</td>\n",
       "      <td>140.10</td>\n",
       "      <td>1265.0</td>\n",
       "      <td>0.11780</td>\n",
       "      <td>0.27700</td>\n",
       "      <td>0.35140</td>\n",
       "      <td>0.15200</td>\n",
       "      <td>0.2397</td>\n",
       "      <td>0.07016</td>\n",
       "      <td>...</td>\n",
       "      <td>25.740</td>\n",
       "      <td>39.42</td>\n",
       "      <td>184.60</td>\n",
       "      <td>1821.0</td>\n",
       "      <td>0.16500</td>\n",
       "      <td>0.86810</td>\n",
       "      <td>0.9387</td>\n",
       "      <td>0.2650</td>\n",
       "      <td>0.4087</td>\n",
       "      <td>0.12400</td>\n",
       "    </tr>\n",
       "    <tr>\n",
       "      <th>568</th>\n",
       "      <td>7.76</td>\n",
       "      <td>24.54</td>\n",
       "      <td>47.92</td>\n",
       "      <td>181.0</td>\n",
       "      <td>0.05263</td>\n",
       "      <td>0.04362</td>\n",
       "      <td>0.00000</td>\n",
       "      <td>0.00000</td>\n",
       "      <td>0.1587</td>\n",
       "      <td>0.05884</td>\n",
       "      <td>...</td>\n",
       "      <td>9.456</td>\n",
       "      <td>30.37</td>\n",
       "      <td>59.16</td>\n",
       "      <td>268.6</td>\n",
       "      <td>0.08996</td>\n",
       "      <td>0.06444</td>\n",
       "      <td>0.0000</td>\n",
       "      <td>0.0000</td>\n",
       "      <td>0.2871</td>\n",
       "      <td>0.07039</td>\n",
       "    </tr>\n",
       "  </tbody>\n",
       "</table>\n",
       "<p>569 rows × 30 columns</p>\n",
       "</div>"
      ],
      "text/plain": [
       "     mean radius  mean texture  mean perimeter  mean area  mean smoothness  \\\n",
       "0          17.99         10.38          122.80     1001.0          0.11840   \n",
       "1          20.57         17.77          132.90     1326.0          0.08474   \n",
       "2          19.69         21.25          130.00     1203.0          0.10960   \n",
       "3          11.42         20.38           77.58      386.1          0.14250   \n",
       "4          20.29         14.34          135.10     1297.0          0.10030   \n",
       "..           ...           ...             ...        ...              ...   \n",
       "564        21.56         22.39          142.00     1479.0          0.11100   \n",
       "565        20.13         28.25          131.20     1261.0          0.09780   \n",
       "566        16.60         28.08          108.30      858.1          0.08455   \n",
       "567        20.60         29.33          140.10     1265.0          0.11780   \n",
       "568         7.76         24.54           47.92      181.0          0.05263   \n",
       "\n",
       "     mean compactness  mean concavity  mean concave points  mean symmetry  \\\n",
       "0             0.27760         0.30010              0.14710         0.2419   \n",
       "1             0.07864         0.08690              0.07017         0.1812   \n",
       "2             0.15990         0.19740              0.12790         0.2069   \n",
       "3             0.28390         0.24140              0.10520         0.2597   \n",
       "4             0.13280         0.19800              0.10430         0.1809   \n",
       "..                ...             ...                  ...            ...   \n",
       "564           0.11590         0.24390              0.13890         0.1726   \n",
       "565           0.10340         0.14400              0.09791         0.1752   \n",
       "566           0.10230         0.09251              0.05302         0.1590   \n",
       "567           0.27700         0.35140              0.15200         0.2397   \n",
       "568           0.04362         0.00000              0.00000         0.1587   \n",
       "\n",
       "     mean fractal dimension  ...  worst radius  worst texture  \\\n",
       "0                   0.07871  ...        25.380          17.33   \n",
       "1                   0.05667  ...        24.990          23.41   \n",
       "2                   0.05999  ...        23.570          25.53   \n",
       "3                   0.09744  ...        14.910          26.50   \n",
       "4                   0.05883  ...        22.540          16.67   \n",
       "..                      ...  ...           ...            ...   \n",
       "564                 0.05623  ...        25.450          26.40   \n",
       "565                 0.05533  ...        23.690          38.25   \n",
       "566                 0.05648  ...        18.980          34.12   \n",
       "567                 0.07016  ...        25.740          39.42   \n",
       "568                 0.05884  ...         9.456          30.37   \n",
       "\n",
       "     worst perimeter  worst area  worst smoothness  worst compactness  \\\n",
       "0             184.60      2019.0           0.16220            0.66560   \n",
       "1             158.80      1956.0           0.12380            0.18660   \n",
       "2             152.50      1709.0           0.14440            0.42450   \n",
       "3              98.87       567.7           0.20980            0.86630   \n",
       "4             152.20      1575.0           0.13740            0.20500   \n",
       "..               ...         ...               ...                ...   \n",
       "564           166.10      2027.0           0.14100            0.21130   \n",
       "565           155.00      1731.0           0.11660            0.19220   \n",
       "566           126.70      1124.0           0.11390            0.30940   \n",
       "567           184.60      1821.0           0.16500            0.86810   \n",
       "568            59.16       268.6           0.08996            0.06444   \n",
       "\n",
       "     worst concavity  worst concave points  worst symmetry  \\\n",
       "0             0.7119                0.2654          0.4601   \n",
       "1             0.2416                0.1860          0.2750   \n",
       "2             0.4504                0.2430          0.3613   \n",
       "3             0.6869                0.2575          0.6638   \n",
       "4             0.4000                0.1625          0.2364   \n",
       "..               ...                   ...             ...   \n",
       "564           0.4107                0.2216          0.2060   \n",
       "565           0.3215                0.1628          0.2572   \n",
       "566           0.3403                0.1418          0.2218   \n",
       "567           0.9387                0.2650          0.4087   \n",
       "568           0.0000                0.0000          0.2871   \n",
       "\n",
       "     worst fractal dimension  \n",
       "0                    0.11890  \n",
       "1                    0.08902  \n",
       "2                    0.08758  \n",
       "3                    0.17300  \n",
       "4                    0.07678  \n",
       "..                       ...  \n",
       "564                  0.07115  \n",
       "565                  0.06637  \n",
       "566                  0.07820  \n",
       "567                  0.12400  \n",
       "568                  0.07039  \n",
       "\n",
       "[569 rows x 30 columns]"
      ]
     },
     "execution_count": 16,
     "metadata": {},
     "output_type": "execute_result"
    }
   ],
   "source": [
    "breast_cancer_df = pd.DataFrame(data=breast_cancer_data, columns=breast_cancer.feature_names)\n",
    "breast_cancer_df    # DataFrame 이라는 자료형으로 변환해보기"
   ]
  },
  {
   "cell_type": "code",
   "execution_count": 17,
   "id": "3f582ffd",
   "metadata": {},
   "outputs": [
    {
     "data": {
      "text/html": [
       "<div>\n",
       "<style scoped>\n",
       "    .dataframe tbody tr th:only-of-type {\n",
       "        vertical-align: middle;\n",
       "    }\n",
       "\n",
       "    .dataframe tbody tr th {\n",
       "        vertical-align: top;\n",
       "    }\n",
       "\n",
       "    .dataframe thead th {\n",
       "        text-align: right;\n",
       "    }\n",
       "</style>\n",
       "<table border=\"1\" class=\"dataframe\">\n",
       "  <thead>\n",
       "    <tr style=\"text-align: right;\">\n",
       "      <th></th>\n",
       "      <th>mean radius</th>\n",
       "      <th>mean texture</th>\n",
       "      <th>mean perimeter</th>\n",
       "      <th>mean area</th>\n",
       "      <th>mean smoothness</th>\n",
       "      <th>mean compactness</th>\n",
       "      <th>mean concavity</th>\n",
       "      <th>mean concave points</th>\n",
       "      <th>mean symmetry</th>\n",
       "      <th>mean fractal dimension</th>\n",
       "      <th>...</th>\n",
       "      <th>worst texture</th>\n",
       "      <th>worst perimeter</th>\n",
       "      <th>worst area</th>\n",
       "      <th>worst smoothness</th>\n",
       "      <th>worst compactness</th>\n",
       "      <th>worst concavity</th>\n",
       "      <th>worst concave points</th>\n",
       "      <th>worst symmetry</th>\n",
       "      <th>worst fractal dimension</th>\n",
       "      <th>label</th>\n",
       "    </tr>\n",
       "  </thead>\n",
       "  <tbody>\n",
       "    <tr>\n",
       "      <th>0</th>\n",
       "      <td>17.99</td>\n",
       "      <td>10.38</td>\n",
       "      <td>122.80</td>\n",
       "      <td>1001.0</td>\n",
       "      <td>0.11840</td>\n",
       "      <td>0.27760</td>\n",
       "      <td>0.30010</td>\n",
       "      <td>0.14710</td>\n",
       "      <td>0.2419</td>\n",
       "      <td>0.07871</td>\n",
       "      <td>...</td>\n",
       "      <td>17.33</td>\n",
       "      <td>184.60</td>\n",
       "      <td>2019.0</td>\n",
       "      <td>0.16220</td>\n",
       "      <td>0.66560</td>\n",
       "      <td>0.7119</td>\n",
       "      <td>0.2654</td>\n",
       "      <td>0.4601</td>\n",
       "      <td>0.11890</td>\n",
       "      <td>0</td>\n",
       "    </tr>\n",
       "    <tr>\n",
       "      <th>1</th>\n",
       "      <td>20.57</td>\n",
       "      <td>17.77</td>\n",
       "      <td>132.90</td>\n",
       "      <td>1326.0</td>\n",
       "      <td>0.08474</td>\n",
       "      <td>0.07864</td>\n",
       "      <td>0.08690</td>\n",
       "      <td>0.07017</td>\n",
       "      <td>0.1812</td>\n",
       "      <td>0.05667</td>\n",
       "      <td>...</td>\n",
       "      <td>23.41</td>\n",
       "      <td>158.80</td>\n",
       "      <td>1956.0</td>\n",
       "      <td>0.12380</td>\n",
       "      <td>0.18660</td>\n",
       "      <td>0.2416</td>\n",
       "      <td>0.1860</td>\n",
       "      <td>0.2750</td>\n",
       "      <td>0.08902</td>\n",
       "      <td>0</td>\n",
       "    </tr>\n",
       "    <tr>\n",
       "      <th>2</th>\n",
       "      <td>19.69</td>\n",
       "      <td>21.25</td>\n",
       "      <td>130.00</td>\n",
       "      <td>1203.0</td>\n",
       "      <td>0.10960</td>\n",
       "      <td>0.15990</td>\n",
       "      <td>0.19740</td>\n",
       "      <td>0.12790</td>\n",
       "      <td>0.2069</td>\n",
       "      <td>0.05999</td>\n",
       "      <td>...</td>\n",
       "      <td>25.53</td>\n",
       "      <td>152.50</td>\n",
       "      <td>1709.0</td>\n",
       "      <td>0.14440</td>\n",
       "      <td>0.42450</td>\n",
       "      <td>0.4504</td>\n",
       "      <td>0.2430</td>\n",
       "      <td>0.3613</td>\n",
       "      <td>0.08758</td>\n",
       "      <td>0</td>\n",
       "    </tr>\n",
       "    <tr>\n",
       "      <th>3</th>\n",
       "      <td>11.42</td>\n",
       "      <td>20.38</td>\n",
       "      <td>77.58</td>\n",
       "      <td>386.1</td>\n",
       "      <td>0.14250</td>\n",
       "      <td>0.28390</td>\n",
       "      <td>0.24140</td>\n",
       "      <td>0.10520</td>\n",
       "      <td>0.2597</td>\n",
       "      <td>0.09744</td>\n",
       "      <td>...</td>\n",
       "      <td>26.50</td>\n",
       "      <td>98.87</td>\n",
       "      <td>567.7</td>\n",
       "      <td>0.20980</td>\n",
       "      <td>0.86630</td>\n",
       "      <td>0.6869</td>\n",
       "      <td>0.2575</td>\n",
       "      <td>0.6638</td>\n",
       "      <td>0.17300</td>\n",
       "      <td>0</td>\n",
       "    </tr>\n",
       "    <tr>\n",
       "      <th>4</th>\n",
       "      <td>20.29</td>\n",
       "      <td>14.34</td>\n",
       "      <td>135.10</td>\n",
       "      <td>1297.0</td>\n",
       "      <td>0.10030</td>\n",
       "      <td>0.13280</td>\n",
       "      <td>0.19800</td>\n",
       "      <td>0.10430</td>\n",
       "      <td>0.1809</td>\n",
       "      <td>0.05883</td>\n",
       "      <td>...</td>\n",
       "      <td>16.67</td>\n",
       "      <td>152.20</td>\n",
       "      <td>1575.0</td>\n",
       "      <td>0.13740</td>\n",
       "      <td>0.20500</td>\n",
       "      <td>0.4000</td>\n",
       "      <td>0.1625</td>\n",
       "      <td>0.2364</td>\n",
       "      <td>0.07678</td>\n",
       "      <td>0</td>\n",
       "    </tr>\n",
       "    <tr>\n",
       "      <th>...</th>\n",
       "      <td>...</td>\n",
       "      <td>...</td>\n",
       "      <td>...</td>\n",
       "      <td>...</td>\n",
       "      <td>...</td>\n",
       "      <td>...</td>\n",
       "      <td>...</td>\n",
       "      <td>...</td>\n",
       "      <td>...</td>\n",
       "      <td>...</td>\n",
       "      <td>...</td>\n",
       "      <td>...</td>\n",
       "      <td>...</td>\n",
       "      <td>...</td>\n",
       "      <td>...</td>\n",
       "      <td>...</td>\n",
       "      <td>...</td>\n",
       "      <td>...</td>\n",
       "      <td>...</td>\n",
       "      <td>...</td>\n",
       "      <td>...</td>\n",
       "    </tr>\n",
       "    <tr>\n",
       "      <th>564</th>\n",
       "      <td>21.56</td>\n",
       "      <td>22.39</td>\n",
       "      <td>142.00</td>\n",
       "      <td>1479.0</td>\n",
       "      <td>0.11100</td>\n",
       "      <td>0.11590</td>\n",
       "      <td>0.24390</td>\n",
       "      <td>0.13890</td>\n",
       "      <td>0.1726</td>\n",
       "      <td>0.05623</td>\n",
       "      <td>...</td>\n",
       "      <td>26.40</td>\n",
       "      <td>166.10</td>\n",
       "      <td>2027.0</td>\n",
       "      <td>0.14100</td>\n",
       "      <td>0.21130</td>\n",
       "      <td>0.4107</td>\n",
       "      <td>0.2216</td>\n",
       "      <td>0.2060</td>\n",
       "      <td>0.07115</td>\n",
       "      <td>0</td>\n",
       "    </tr>\n",
       "    <tr>\n",
       "      <th>565</th>\n",
       "      <td>20.13</td>\n",
       "      <td>28.25</td>\n",
       "      <td>131.20</td>\n",
       "      <td>1261.0</td>\n",
       "      <td>0.09780</td>\n",
       "      <td>0.10340</td>\n",
       "      <td>0.14400</td>\n",
       "      <td>0.09791</td>\n",
       "      <td>0.1752</td>\n",
       "      <td>0.05533</td>\n",
       "      <td>...</td>\n",
       "      <td>38.25</td>\n",
       "      <td>155.00</td>\n",
       "      <td>1731.0</td>\n",
       "      <td>0.11660</td>\n",
       "      <td>0.19220</td>\n",
       "      <td>0.3215</td>\n",
       "      <td>0.1628</td>\n",
       "      <td>0.2572</td>\n",
       "      <td>0.06637</td>\n",
       "      <td>0</td>\n",
       "    </tr>\n",
       "    <tr>\n",
       "      <th>566</th>\n",
       "      <td>16.60</td>\n",
       "      <td>28.08</td>\n",
       "      <td>108.30</td>\n",
       "      <td>858.1</td>\n",
       "      <td>0.08455</td>\n",
       "      <td>0.10230</td>\n",
       "      <td>0.09251</td>\n",
       "      <td>0.05302</td>\n",
       "      <td>0.1590</td>\n",
       "      <td>0.05648</td>\n",
       "      <td>...</td>\n",
       "      <td>34.12</td>\n",
       "      <td>126.70</td>\n",
       "      <td>1124.0</td>\n",
       "      <td>0.11390</td>\n",
       "      <td>0.30940</td>\n",
       "      <td>0.3403</td>\n",
       "      <td>0.1418</td>\n",
       "      <td>0.2218</td>\n",
       "      <td>0.07820</td>\n",
       "      <td>0</td>\n",
       "    </tr>\n",
       "    <tr>\n",
       "      <th>567</th>\n",
       "      <td>20.60</td>\n",
       "      <td>29.33</td>\n",
       "      <td>140.10</td>\n",
       "      <td>1265.0</td>\n",
       "      <td>0.11780</td>\n",
       "      <td>0.27700</td>\n",
       "      <td>0.35140</td>\n",
       "      <td>0.15200</td>\n",
       "      <td>0.2397</td>\n",
       "      <td>0.07016</td>\n",
       "      <td>...</td>\n",
       "      <td>39.42</td>\n",
       "      <td>184.60</td>\n",
       "      <td>1821.0</td>\n",
       "      <td>0.16500</td>\n",
       "      <td>0.86810</td>\n",
       "      <td>0.9387</td>\n",
       "      <td>0.2650</td>\n",
       "      <td>0.4087</td>\n",
       "      <td>0.12400</td>\n",
       "      <td>0</td>\n",
       "    </tr>\n",
       "    <tr>\n",
       "      <th>568</th>\n",
       "      <td>7.76</td>\n",
       "      <td>24.54</td>\n",
       "      <td>47.92</td>\n",
       "      <td>181.0</td>\n",
       "      <td>0.05263</td>\n",
       "      <td>0.04362</td>\n",
       "      <td>0.00000</td>\n",
       "      <td>0.00000</td>\n",
       "      <td>0.1587</td>\n",
       "      <td>0.05884</td>\n",
       "      <td>...</td>\n",
       "      <td>30.37</td>\n",
       "      <td>59.16</td>\n",
       "      <td>268.6</td>\n",
       "      <td>0.08996</td>\n",
       "      <td>0.06444</td>\n",
       "      <td>0.0000</td>\n",
       "      <td>0.0000</td>\n",
       "      <td>0.2871</td>\n",
       "      <td>0.07039</td>\n",
       "      <td>1</td>\n",
       "    </tr>\n",
       "  </tbody>\n",
       "</table>\n",
       "<p>569 rows × 31 columns</p>\n",
       "</div>"
      ],
      "text/plain": [
       "     mean radius  mean texture  mean perimeter  mean area  mean smoothness  \\\n",
       "0          17.99         10.38          122.80     1001.0          0.11840   \n",
       "1          20.57         17.77          132.90     1326.0          0.08474   \n",
       "2          19.69         21.25          130.00     1203.0          0.10960   \n",
       "3          11.42         20.38           77.58      386.1          0.14250   \n",
       "4          20.29         14.34          135.10     1297.0          0.10030   \n",
       "..           ...           ...             ...        ...              ...   \n",
       "564        21.56         22.39          142.00     1479.0          0.11100   \n",
       "565        20.13         28.25          131.20     1261.0          0.09780   \n",
       "566        16.60         28.08          108.30      858.1          0.08455   \n",
       "567        20.60         29.33          140.10     1265.0          0.11780   \n",
       "568         7.76         24.54           47.92      181.0          0.05263   \n",
       "\n",
       "     mean compactness  mean concavity  mean concave points  mean symmetry  \\\n",
       "0             0.27760         0.30010              0.14710         0.2419   \n",
       "1             0.07864         0.08690              0.07017         0.1812   \n",
       "2             0.15990         0.19740              0.12790         0.2069   \n",
       "3             0.28390         0.24140              0.10520         0.2597   \n",
       "4             0.13280         0.19800              0.10430         0.1809   \n",
       "..                ...             ...                  ...            ...   \n",
       "564           0.11590         0.24390              0.13890         0.1726   \n",
       "565           0.10340         0.14400              0.09791         0.1752   \n",
       "566           0.10230         0.09251              0.05302         0.1590   \n",
       "567           0.27700         0.35140              0.15200         0.2397   \n",
       "568           0.04362         0.00000              0.00000         0.1587   \n",
       "\n",
       "     mean fractal dimension  ...  worst texture  worst perimeter  worst area  \\\n",
       "0                   0.07871  ...          17.33           184.60      2019.0   \n",
       "1                   0.05667  ...          23.41           158.80      1956.0   \n",
       "2                   0.05999  ...          25.53           152.50      1709.0   \n",
       "3                   0.09744  ...          26.50            98.87       567.7   \n",
       "4                   0.05883  ...          16.67           152.20      1575.0   \n",
       "..                      ...  ...            ...              ...         ...   \n",
       "564                 0.05623  ...          26.40           166.10      2027.0   \n",
       "565                 0.05533  ...          38.25           155.00      1731.0   \n",
       "566                 0.05648  ...          34.12           126.70      1124.0   \n",
       "567                 0.07016  ...          39.42           184.60      1821.0   \n",
       "568                 0.05884  ...          30.37            59.16       268.6   \n",
       "\n",
       "     worst smoothness  worst compactness  worst concavity  \\\n",
       "0             0.16220            0.66560           0.7119   \n",
       "1             0.12380            0.18660           0.2416   \n",
       "2             0.14440            0.42450           0.4504   \n",
       "3             0.20980            0.86630           0.6869   \n",
       "4             0.13740            0.20500           0.4000   \n",
       "..                ...                ...              ...   \n",
       "564           0.14100            0.21130           0.4107   \n",
       "565           0.11660            0.19220           0.3215   \n",
       "566           0.11390            0.30940           0.3403   \n",
       "567           0.16500            0.86810           0.9387   \n",
       "568           0.08996            0.06444           0.0000   \n",
       "\n",
       "     worst concave points  worst symmetry  worst fractal dimension  label  \n",
       "0                  0.2654          0.4601                  0.11890      0  \n",
       "1                  0.1860          0.2750                  0.08902      0  \n",
       "2                  0.2430          0.3613                  0.08758      0  \n",
       "3                  0.2575          0.6638                  0.17300      0  \n",
       "4                  0.1625          0.2364                  0.07678      0  \n",
       "..                    ...             ...                      ...    ...  \n",
       "564                0.2216          0.2060                  0.07115      0  \n",
       "565                0.1628          0.2572                  0.06637      0  \n",
       "566                0.1418          0.2218                  0.07820      0  \n",
       "567                0.2650          0.4087                  0.12400      0  \n",
       "568                0.0000          0.2871                  0.07039      1  \n",
       "\n",
       "[569 rows x 31 columns]"
      ]
     },
     "execution_count": 17,
     "metadata": {},
     "output_type": "execute_result"
    }
   ],
   "source": [
    "breast_cancer_df[\"label\"] = breast_cancer.target\n",
    "breast_cancer_df    # 정답 데이터 label이라는 컬럼 추가"
   ]
  },
  {
   "cell_type": "code",
   "execution_count": 18,
   "id": "52df8415",
   "metadata": {},
   "outputs": [
    {
     "name": "stdout",
     "output_type": "stream",
     "text": [
      "X_train 개수:  455 , X_test 개수:  114\n"
     ]
    }
   ],
   "source": [
    "# X_train, X_test, y_train, y_test 데이터 분리하기\n",
    "from sklearn.model_selection import train_test_split\n",
    "\n",
    "X_train, X_test, y_train, y_test = train_test_split(breast_cancer_data, \n",
    "                                                    breast_cancer_label, \n",
    "                                                    test_size=0.2, \n",
    "                                                    random_state=7)\n",
    "\n",
    "print('X_train 개수: ', len(X_train),', X_test 개수: ', len(X_test))"
   ]
  },
  {
   "cell_type": "code",
   "execution_count": 19,
   "id": "cd9f88c9",
   "metadata": {},
   "outputs": [
    {
     "data": {
      "text/plain": [
       "((455, 30), (455,))"
      ]
     },
     "execution_count": 19,
     "metadata": {},
     "output_type": "execute_result"
    }
   ],
   "source": [
    "X_train.shape, y_train.shape"
   ]
  },
  {
   "cell_type": "code",
   "execution_count": 20,
   "id": "54200ebe",
   "metadata": {},
   "outputs": [
    {
     "data": {
      "text/plain": [
       "((114, 30), (114,))"
      ]
     },
     "execution_count": 20,
     "metadata": {},
     "output_type": "execute_result"
    }
   ],
   "source": [
    "X_test.shape, y_test.shape"
   ]
  },
  {
   "cell_type": "code",
   "execution_count": 21,
   "id": "5b3c053f",
   "metadata": {},
   "outputs": [
    {
     "data": {
      "text/plain": [
       "(array([0, 1, 1, 1, 1, 0, 1, 1, 1, 1, 1, 0, 1, 0, 1, 1, 1, 1, 1, 1, 1, 1,\n",
       "        1, 1, 1, 1, 1, 1, 0, 1, 0, 1, 1, 1, 0, 1, 1, 1, 1, 0, 1, 1, 1, 0,\n",
       "        0, 0, 1, 1, 1, 1, 0, 1, 1, 0, 1, 0, 0, 1, 1, 1, 1, 0, 1, 1, 0, 1,\n",
       "        1, 1, 1, 0, 1, 1, 1, 0, 1, 0, 1, 1, 0, 1, 0, 1, 1, 1, 1, 1, 1, 0,\n",
       "        0, 1, 1, 0, 0, 0, 1, 0, 1, 1, 1, 1, 0, 1, 1, 1, 1, 1, 1, 1, 0, 1,\n",
       "        1, 0, 0, 0, 1, 1, 0, 1, 1, 1, 0, 0, 1, 1, 0, 1, 0, 1, 0, 0, 1, 1,\n",
       "        1, 1, 0, 1, 1, 0, 0, 1, 1, 0, 1, 0, 1, 1, 0, 1, 0, 0, 0, 0, 1, 1,\n",
       "        1, 0, 1, 0, 0, 1, 1, 1, 1, 1, 1, 1, 0, 0, 1, 1, 0, 0, 1, 0, 1, 1,\n",
       "        0, 1, 1, 1, 1, 1, 0, 1, 1, 1, 0, 1, 1, 0, 1, 1, 0, 0, 0, 0, 0, 1,\n",
       "        1, 0, 1, 0, 1, 1, 1, 0, 1, 1, 1, 1, 1, 0, 1, 0, 0, 0, 0, 1, 1, 0,\n",
       "        1, 1, 0, 1, 0, 1, 1, 0, 1, 1, 0, 1, 1, 0, 1, 0, 0, 1, 1, 1, 0, 1,\n",
       "        1, 1, 0, 0, 1, 1, 0, 1, 1, 0, 0, 0, 1, 1, 0, 1, 0, 1, 1, 1, 1, 1,\n",
       "        0, 1, 1, 0, 1, 0, 0, 0, 1, 0, 0, 1, 0, 1, 0, 0, 1, 0, 1, 0, 1, 0,\n",
       "        1, 1, 0, 1, 1, 0, 0, 0, 1, 0, 0, 1, 1, 0, 1, 1, 1, 1, 1, 1, 0, 1,\n",
       "        1, 0, 1, 1, 1, 1, 1, 0, 1, 1, 0, 0, 1, 1, 1, 0, 0, 1, 0, 0, 1, 1,\n",
       "        1, 1, 0, 1, 1, 0, 0, 0, 1, 0, 0, 1, 0, 0, 0, 1, 0, 1, 1, 0, 0, 1,\n",
       "        0, 1, 1, 0, 0, 1, 1, 0, 0, 0, 0, 0, 0, 0, 1, 1, 1, 1, 0, 1, 0, 1,\n",
       "        1, 1, 1, 1, 1, 1, 0, 1, 0, 0, 1, 1, 0, 0, 0, 1, 0, 1, 0, 1, 1, 1,\n",
       "        0, 1, 1, 1, 1, 0, 1, 1, 0, 1, 1, 1, 1, 1, 1, 0, 1, 1, 1, 1, 1, 0,\n",
       "        0, 0, 1, 1, 1, 1, 1, 0, 1, 1, 1, 1, 1, 1, 1, 0, 0, 0, 0, 0, 0, 1,\n",
       "        0, 1, 0, 1, 0, 1, 0, 1, 1, 1, 1, 1, 1, 0, 1]),\n",
       " array([1, 0, 1, 1, 1, 0, 1, 1, 0, 1, 0, 0, 0, 1, 1, 1, 1, 1, 0, 0, 0, 0,\n",
       "        0, 1, 0, 0, 0, 1, 1, 0, 1, 1, 1, 0, 1, 0, 1, 1, 1, 1, 1, 1, 1, 1,\n",
       "        0, 1, 1, 1, 1, 0, 1, 0, 0, 1, 0, 0, 1, 1, 0, 1, 1, 0, 1, 1, 1, 0,\n",
       "        1, 0, 1, 1, 1, 1, 1, 0, 1, 1, 1, 1, 1, 1, 1, 1, 1, 0, 0, 0, 0, 0,\n",
       "        1, 1, 0, 1, 1, 0, 0, 1, 1, 0, 1, 1, 1, 1, 1, 0, 0, 1, 1, 1, 1, 1,\n",
       "        1, 1, 0, 1]))"
      ]
     },
     "execution_count": 21,
     "metadata": {},
     "output_type": "execute_result"
    }
   ],
   "source": [
    "y_train, y_test"
   ]
  },
  {
   "cell_type": "code",
   "execution_count": 22,
   "id": "84724673",
   "metadata": {},
   "outputs": [
    {
     "name": "stdout",
     "output_type": "stream",
     "text": [
      "classifier\n"
     ]
    }
   ],
   "source": [
    "# DecisionTree 사용\n",
    "from sklearn.tree import DecisionTreeClassifier\n",
    "\n",
    "decision_tree = DecisionTreeClassifier(random_state=32)\n",
    "print(decision_tree._estimator_type)"
   ]
  },
  {
   "cell_type": "code",
   "execution_count": 23,
   "id": "9b63f489",
   "metadata": {},
   "outputs": [
    {
     "data": {
      "text/plain": [
       "DecisionTreeClassifier(random_state=32)"
      ]
     },
     "execution_count": 23,
     "metadata": {},
     "output_type": "execute_result"
    }
   ],
   "source": [
    "decision_tree.fit(X_train, y_train)"
   ]
  },
  {
   "cell_type": "code",
   "execution_count": 24,
   "id": "9ba04871",
   "metadata": {},
   "outputs": [
    {
     "data": {
      "text/plain": [
       "array([1, 0, 1, 1, 0, 0, 1, 1, 1, 1, 0, 0, 0, 1, 1, 1, 1, 1, 0, 0, 0, 0,\n",
       "       0, 1, 0, 1, 0, 1, 1, 0, 1, 1, 1, 0, 1, 0, 0, 1, 1, 1, 1, 1, 1, 1,\n",
       "       0, 1, 1, 1, 1, 0, 1, 0, 0, 1, 0, 0, 1, 1, 0, 1, 1, 1, 1, 1, 1, 0,\n",
       "       1, 0, 1, 1, 1, 0, 1, 0, 1, 1, 1, 1, 1, 1, 1, 1, 1, 0, 0, 0, 1, 0,\n",
       "       1, 1, 1, 1, 1, 0, 1, 1, 1, 0, 1, 1, 1, 1, 1, 0, 0, 1, 1, 1, 1, 1,\n",
       "       1, 1, 1, 1])"
      ]
     },
     "execution_count": 24,
     "metadata": {},
     "output_type": "execute_result"
    }
   ],
   "source": [
    "# 테스트 데이타로 예측해보기\n",
    "y_pred = decision_tree.predict(X_test)\n",
    "y_pred"
   ]
  },
  {
   "cell_type": "code",
   "execution_count": 25,
   "id": "d1e770bd",
   "metadata": {},
   "outputs": [
    {
     "data": {
      "text/plain": [
       "array([1, 0, 1, 1, 1, 0, 1, 1, 0, 1, 0, 0, 0, 1, 1, 1, 1, 1, 0, 0, 0, 0,\n",
       "       0, 1, 0, 0, 0, 1, 1, 0, 1, 1, 1, 0, 1, 0, 1, 1, 1, 1, 1, 1, 1, 1,\n",
       "       0, 1, 1, 1, 1, 0, 1, 0, 0, 1, 0, 0, 1, 1, 0, 1, 1, 0, 1, 1, 1, 0,\n",
       "       1, 0, 1, 1, 1, 1, 1, 0, 1, 1, 1, 1, 1, 1, 1, 1, 1, 0, 0, 0, 0, 0,\n",
       "       1, 1, 0, 1, 1, 0, 0, 1, 1, 0, 1, 1, 1, 1, 1, 0, 0, 1, 1, 1, 1, 1,\n",
       "       1, 1, 0, 1])"
      ]
     },
     "execution_count": 25,
     "metadata": {},
     "output_type": "execute_result"
    }
   ],
   "source": [
    "y_test"
   ]
  },
  {
   "cell_type": "code",
   "execution_count": 26,
   "id": "055587f9",
   "metadata": {},
   "outputs": [
    {
     "data": {
      "text/plain": [
       "0.9122807017543859"
      ]
     },
     "execution_count": 26,
     "metadata": {},
     "output_type": "execute_result"
    }
   ],
   "source": [
    "# 정확도 확인 \n",
    "from sklearn.metrics import accuracy_score\n",
    "\n",
    "accuracy = accuracy_score(y_test, y_pred)\n",
    "accuracy    #  약 0.9 정도 나옴"
   ]
  },
  {
   "cell_type": "code",
   "execution_count": 28,
   "id": "dc25c5a5",
   "metadata": {},
   "outputs": [
    {
     "name": "stdout",
     "output_type": "stream",
     "text": [
      "              precision    recall  f1-score   support\n",
      "\n",
      "           0       0.92      0.88      0.90        40\n",
      "           1       0.93      0.96      0.95        74\n",
      "\n",
      "    accuracy                           0.93       114\n",
      "   macro avg       0.93      0.92      0.92       114\n",
      "weighted avg       0.93      0.93      0.93       114\n",
      "\n"
     ]
    }
   ],
   "source": [
    "# 필요한 모듈 import\n",
    "\n",
    "from sklearn.tree import DecisionTreeClassifier\n",
    "from sklearn.metrics import classification_report\n",
    "\n",
    "# 모델 학습 및 예측1. DecisionTree\n",
    "decision_tree = DecisionTreeClassifier(random_state=120)\n",
    "decision_tree.fit(X_train, y_train)\n",
    "y_pred = decision_tree.predict(X_test)\n",
    "\n",
    "print(classification_report(y_test, y_pred))"
   ]
  },
  {
   "cell_type": "code",
   "execution_count": 29,
   "id": "f9da1d2f",
   "metadata": {},
   "outputs": [
    {
     "name": "stdout",
     "output_type": "stream",
     "text": [
      "              precision    recall  f1-score   support\n",
      "\n",
      "           0       0.97      0.95      0.96        39\n",
      "           1       0.97      0.99      0.98        75\n",
      "\n",
      "    accuracy                           0.97       114\n",
      "   macro avg       0.97      0.97      0.97       114\n",
      "weighted avg       0.97      0.97      0.97       114\n",
      "\n"
     ]
    }
   ],
   "source": [
    "#모델 학습 및 예측2. Random Forest 사용해보기\n",
    "\n",
    "from sklearn.ensemble import RandomForestClassifier\n",
    "\n",
    "X_train, X_test, y_train, y_test = train_test_split(breast_cancer_data, \n",
    "                                                    breast_cancer_label, \n",
    "                                                    test_size=0.2, \n",
    "                                                    random_state=21)\n",
    "\n",
    "random_forest = RandomForestClassifier(random_state=32)\n",
    "random_forest.fit(X_train, y_train)\n",
    "y_pred = random_forest.predict(X_test)\n",
    "\n",
    "print(classification_report(y_test, y_pred))"
   ]
  },
  {
   "cell_type": "code",
   "execution_count": 30,
   "id": "13ce1425",
   "metadata": {},
   "outputs": [
    {
     "name": "stdout",
     "output_type": "stream",
     "text": [
      "classifier\n"
     ]
    }
   ],
   "source": [
    "# 모델 학습 및 예측3. SVM 사용해보기\n",
    "\n",
    "from sklearn import svm\n",
    "svm_model = svm.SVC()\n",
    "\n",
    "print(svm_model._estimator_type)"
   ]
  },
  {
   "cell_type": "code",
   "execution_count": 31,
   "id": "af1c5ee8",
   "metadata": {},
   "outputs": [
    {
     "name": "stdout",
     "output_type": "stream",
     "text": [
      "              precision    recall  f1-score   support\n",
      "\n",
      "           0       0.93      0.72      0.81        39\n",
      "           1       0.87      0.97      0.92        75\n",
      "\n",
      "    accuracy                           0.89       114\n",
      "   macro avg       0.90      0.85      0.86       114\n",
      "weighted avg       0.89      0.89      0.88       114\n",
      "\n"
     ]
    }
   ],
   "source": [
    "# SVM 모델을 학습시키고, 결과를 확인하기\n",
    "svm_model.fit(X_train, y_train)\n",
    "y_pred = svm_model.predict(X_test)\n",
    "\n",
    "print(classification_report(y_test, y_pred)) "
   ]
  },
  {
   "cell_type": "code",
   "execution_count": 32,
   "id": "da2083b4",
   "metadata": {},
   "outputs": [
    {
     "name": "stdout",
     "output_type": "stream",
     "text": [
      "classifier\n"
     ]
    }
   ],
   "source": [
    "# 모델 학습 및 예측4. SGD Classifier 모델 사용\n",
    "from sklearn.linear_model import SGDClassifier\n",
    "sgd_model = SGDClassifier()\n",
    "\n",
    "print(sgd_model._estimator_type)"
   ]
  },
  {
   "cell_type": "code",
   "execution_count": 33,
   "id": "61732f93",
   "metadata": {},
   "outputs": [
    {
     "name": "stdout",
     "output_type": "stream",
     "text": [
      "              precision    recall  f1-score   support\n",
      "\n",
      "           0       0.94      0.79      0.86        39\n",
      "           1       0.90      0.97      0.94        75\n",
      "\n",
      "    accuracy                           0.91       114\n",
      "   macro avg       0.92      0.88      0.90       114\n",
      "weighted avg       0.91      0.91      0.91       114\n",
      "\n"
     ]
    }
   ],
   "source": [
    "# SGD Classifier 모델을 학습시키고, 결과를 확인\n",
    "# 코드를 입력하세요\n",
    "sgd_model.fit(X_train, y_train)\n",
    "y_pred = sgd_model.predict(X_test)\n",
    "\n",
    "print(classification_report(y_test, y_pred))"
   ]
  },
  {
   "cell_type": "code",
   "execution_count": 34,
   "id": "c5d0626c",
   "metadata": {},
   "outputs": [
    {
     "name": "stdout",
     "output_type": "stream",
     "text": [
      "classifier\n"
     ]
    }
   ],
   "source": [
    "# 모델 학습 및 예측5. Logistic Regression 모델\n",
    "from sklearn.linear_model import LogisticRegression\n",
    "logistic_model = LogisticRegression()\n",
    "\n",
    "print(logistic_model._estimator_type)"
   ]
  },
  {
   "cell_type": "code",
   "execution_count": 35,
   "id": "5b322553",
   "metadata": {},
   "outputs": [
    {
     "name": "stdout",
     "output_type": "stream",
     "text": [
      "              precision    recall  f1-score   support\n",
      "\n",
      "           0       0.92      0.85      0.88        39\n",
      "           1       0.92      0.96      0.94        75\n",
      "\n",
      "    accuracy                           0.92       114\n",
      "   macro avg       0.92      0.90      0.91       114\n",
      "weighted avg       0.92      0.92      0.92       114\n",
      "\n",
      "              precision    recall  f1-score   support\n",
      "\n",
      "           0       0.92      0.85      0.88        39\n",
      "           1       0.92      0.96      0.94        75\n",
      "\n",
      "    accuracy                           0.92       114\n",
      "   macro avg       0.92      0.90      0.91       114\n",
      "weighted avg       0.92      0.92      0.92       114\n",
      "\n"
     ]
    },
    {
     "name": "stderr",
     "output_type": "stream",
     "text": [
      "/opt/conda/lib/python3.9/site-packages/sklearn/linear_model/_logistic.py:814: ConvergenceWarning: lbfgs failed to converge (status=1):\n",
      "STOP: TOTAL NO. of ITERATIONS REACHED LIMIT.\n",
      "\n",
      "Increase the number of iterations (max_iter) or scale the data as shown in:\n",
      "    https://scikit-learn.org/stable/modules/preprocessing.html\n",
      "Please also refer to the documentation for alternative solver options:\n",
      "    https://scikit-learn.org/stable/modules/linear_model.html#logistic-regression\n",
      "  n_iter_i = _check_optimize_result(\n",
      "/opt/conda/lib/python3.9/site-packages/sklearn/linear_model/_logistic.py:814: ConvergenceWarning: lbfgs failed to converge (status=1):\n",
      "STOP: TOTAL NO. of ITERATIONS REACHED LIMIT.\n",
      "\n",
      "Increase the number of iterations (max_iter) or scale the data as shown in:\n",
      "    https://scikit-learn.org/stable/modules/preprocessing.html\n",
      "Please also refer to the documentation for alternative solver options:\n",
      "    https://scikit-learn.org/stable/modules/linear_model.html#logistic-regression\n",
      "  n_iter_i = _check_optimize_result(\n"
     ]
    }
   ],
   "source": [
    "# Logistic Regression 모델을 학습시고, 결과를 확인\n",
    "logistic_model.fit(X_train, y_train)\n",
    "y_pred = logistic_model.predict(X_test)\n",
    "\n",
    "print(classification_report(y_test, y_pred))\n",
    "logistic_model.fit(X_train, y_train)\n",
    "y_pred = logistic_model.predict(X_test)\n",
    "\n",
    "print(classification_report(y_test, y_pred))"
   ]
  },
  {
   "cell_type": "code",
   "execution_count": 44,
   "id": "59a6060a",
   "metadata": {},
   "outputs": [
    {
     "data": {
      "image/png": "[encoded data removed]",
      "text/plain": [
       "<Figure size 432x288 with 1 Axes>"
      ]
     },
     "metadata": {
      "needs_background": "light"
     },
     "output_type": "display_data"
    }
   ],
   "source": [
    "# 이미지 확인하기\n",
    "\n",
    "import matplotlib.pyplot as plt\n",
    "%matplotlib inline\n",
    "\n",
    "plt.imshow(breast_cancer.data[0].reshape(5, 6), cmap='gray')\n",
    "plt.axis('off')\n",
    "plt.show()"
   ]
  },
  {
   "cell_type": "code",
   "execution_count": 45,
   "id": "d77afa3f",
   "metadata": {},
   "outputs": [
    {
     "data": {
      "image/png": "[encoded data removed]",
      "text/plain": [
       "<Figure size 432x288 with 1 Axes>"
      ]
     },
     "metadata": {
      "needs_background": "light"
     },
     "output_type": "display_data"
    }
   ],
   "source": [
    "# 이미지 확인하기\n",
    "\n",
    "import matplotlib.pyplot as plt\n",
    "%matplotlib inline\n",
    "\n",
    "plt.imshow(breast_cancer.data[0].reshape(6, 5), cmap='gray')\n",
    "plt.axis('off')\n",
    "plt.show()"
   ]
  },
  {
   "cell_type": "code",
   "execution_count": 48,
   "id": "c23a37ca",
   "metadata": {},
   "outputs": [
    {
     "data": {
      "image/png": "[encoded data removed]",
      "text/plain": [
       "<Figure size 432x288 with 10 Axes>"
      ]
     },
     "metadata": {
      "needs_background": "light"
     },
     "output_type": "display_data"
    }
   ],
   "source": [
    "# 여러 개의 이미지를 한 번에 확인, 10개만 확인\n",
    "for i in range(10):\n",
    "    plt.subplot(2, 5, i+1)\n",
    "    plt.imshow(breast_cancer.data[i].reshape(6, 5), cmap='gray')\n",
    "    plt.axis('off')\n",
    "plt.show()"
   ]
  },
  {
   "cell_type": "code",
   "execution_count": 49,
   "id": "e21a2245",
   "metadata": {},
   "outputs": [
    {
     "data": {
      "image/png": "[encoded data removed]",
      "text/plain": [
       "<Figure size 432x288 with 30 Axes>"
      ]
     },
     "metadata": {
      "needs_background": "light"
     },
     "output_type": "display_data"
    }
   ],
   "source": [
    "# 여러 개의 이미지를 한 번에 확인, 30개 확인\n",
    "for i in range(30):\n",
    "    plt.subplot(6, 5, i+1)\n",
    "    plt.imshow(breast_cancer.data[i].reshape(6, 5), cmap='gray')\n",
    "    plt.axis('off')\n",
    "plt.show()"
   ]
  },
  {
   "cell_type": "code",
   "execution_count": 50,
   "id": "f8263a74",
   "metadata": {},
   "outputs": [
    {
     "name": "stdout",
     "output_type": "stream",
     "text": [
      "(569,)\n"
     ]
    },
    {
     "data": {
      "text/plain": [
       "array([0, 0, 0, 0, 0, 0, 0, 0, 0, 0, 0, 0, 0, 0, 0, 0, 0, 0, 0, 1])"
      ]
     },
     "execution_count": 50,
     "metadata": {},
     "output_type": "execute_result"
    }
   ],
   "source": [
    "# 타겟 데이타는?\n",
    "breast_cancer_label = breast_cancer.target\n",
    "print(breast_cancer_label.shape)\n",
    "breast_cancer_label[:20]"
   ]
  },
  {
   "cell_type": "code",
   "execution_count": 80,
   "id": "b42d4904",
   "metadata": {},
   "outputs": [
    {
     "data": {
      "text/plain": [
       "[0, 0, 0, 0, 0, 0, 0, 0, 0, 0, 0, 0, 0, 0, 0, 0, 0, 0, 0, 1]"
      ]
     },
     "execution_count": 80,
     "metadata": {},
     "output_type": "execute_result"
    }
   ],
   "source": [
    "new_label = [1 if i == 1 else 0 for i in breast_cancer_label]\n",
    "new_label[:20]"
   ]
  },
  {
   "cell_type": "code",
   "execution_count": null,
   "id": "59a4d47d",
   "metadata": {},
   "outputs": [],
   "source": []
  },
  {
   "cell_type": "code",
   "execution_count": null,
   "id": "4ae7b4d6",
   "metadata": {},
   "outputs": [],
   "source": []
  },
  {
   "cell_type": "code",
   "execution_count": 81,
   "id": "3c5e0f51",
   "metadata": {},
   "outputs": [
    {
     "data": {
      "text/plain": [
       "0.9122807017543859"
      ]
     },
     "execution_count": 81,
     "metadata": {},
     "output_type": "execute_result"
    }
   ],
   "source": [
    "from sklearn.metrics import accuracy_score\n",
    "\n",
    "X_train, X_test, y_train, y_test = train_test_split(breast_cancer_data,\n",
    "                                                    new_label,\n",
    "                                                    test_size=0.2,\n",
    "                                                    random_state=7)\n",
    "\n",
    "decision_tree = DecisionTreeClassifier(random_state=7)\n",
    "decision_tree.fit(X_train, y_train)\n",
    "y_pred = decision_tree.predict(X_test)\n",
    "\n",
    "accuracy = accuracy_score(y_test, y_pred)\n",
    "accuracy\n",
    "#1.0이라는 엄청나게 높은 값이 나옴"
   ]
  },
  {
   "cell_type": "code",
   "execution_count": 73,
   "id": "ba9d4044",
   "metadata": {},
   "outputs": [
    {
     "data": {
      "text/plain": [
       "0.0"
      ]
     },
     "execution_count": 73,
     "metadata": {},
     "output_type": "execute_result"
    }
   ],
   "source": [
    "fake_pred = [1] * len(y_pred)\n",
    "\n",
    "accuracy = accuracy_score(y_test, fake_pred)\n",
    "accuracy"
   ]
  },
  {
   "cell_type": "code",
   "execution_count": 82,
   "id": "848e7202",
   "metadata": {},
   "outputs": [
    {
     "data": {
      "text/plain": [
       "0.3508771929824561"
      ]
     },
     "execution_count": 82,
     "metadata": {},
     "output_type": "execute_result"
    }
   ],
   "source": [
    "fake_pred = [0] * len(y_pred)\n",
    "\n",
    "accuracy = accuracy_score(y_test, fake_pred)\n",
    "accuracy"
   ]
  },
  {
   "cell_type": "code",
   "execution_count": 83,
   "id": "d95468c4",
   "metadata": {},
   "outputs": [
    {
     "data": {
      "text/plain": [
       "array([[33,  7],\n",
       "       [ 3, 71]])"
      ]
     },
     "execution_count": 83,
     "metadata": {},
     "output_type": "execute_result"
    }
   ],
   "source": [
    "from sklearn.metrics import confusion_matrix\n",
    "\n",
    "confusion_matrix(y_test, y_pred)  # 이 경우는 TP, TN은 높고 FN, FP는 낮으므로 좋은 결과라 볼 수 있다."
   ]
  },
  {
   "cell_type": "code",
   "execution_count": 84,
   "id": "ad08da3d",
   "metadata": {},
   "outputs": [
    {
     "data": {
      "text/plain": [
       "array([[40,  0],\n",
       "       [74,  0]])"
      ]
     },
     "execution_count": 84,
     "metadata": {},
     "output_type": "execute_result"
    }
   ],
   "source": [
    "confusion_matrix(y_test, fake_pred)  #  TP=40,  FN=0, FP=74, TN=0 로 나왔다.  계산을 해 보면 recall=1이 나오므로 좋은 예측이라고 할 수 있다."
   ]
  },
  {
   "cell_type": "code",
   "execution_count": 85,
   "id": "af435311",
   "metadata": {},
   "outputs": [
    {
     "name": "stdout",
     "output_type": "stream",
     "text": [
      "              precision    recall  f1-score   support\n",
      "\n",
      "           0       0.92      0.82      0.87        40\n",
      "           1       0.91      0.96      0.93        74\n",
      "\n",
      "    accuracy                           0.91       114\n",
      "   macro avg       0.91      0.89      0.90       114\n",
      "weighted avg       0.91      0.91      0.91       114\n",
      "\n"
     ]
    }
   ],
   "source": [
    "from sklearn.metrics import classification_report\n",
    "\n",
    "print(classification_report(y_test, y_pred)) # 예측값의 정확도가 0.91로 나옴"
   ]
  },
  {
   "cell_type": "code",
   "execution_count": 86,
   "id": "aad0bb15",
   "metadata": {},
   "outputs": [
    {
     "name": "stdout",
     "output_type": "stream",
     "text": [
      "              precision    recall  f1-score   support\n",
      "\n",
      "           0       0.35      1.00      0.52        40\n",
      "           1       0.00      0.00      0.00        74\n",
      "\n",
      "    accuracy                           0.35       114\n",
      "   macro avg       0.18      0.50      0.26       114\n",
      "weighted avg       0.12      0.35      0.18       114\n",
      "\n"
     ]
    }
   ],
   "source": [
    "print(classification_report(y_test, fake_pred, zero_division=0))  # 모든 숫자를 0으로 예측한 fake_pred의 경우 정확도가 0.35로 나옴"
   ]
  },
  {
   "cell_type": "code",
   "execution_count": 88,
   "id": "3ec8b5c9",
   "metadata": {},
   "outputs": [
    {
     "data": {
      "text/plain": [
       "(0.9122807017543859, 0.3508771929824561)"
      ]
     },
     "execution_count": 88,
     "metadata": {},
     "output_type": "execute_result"
    }
   ],
   "source": [
    "accuracy_score(y_test, y_pred), accuracy_score(y_test, fake_pred) \n",
    "# y_pred와 fake_pred 는 0.91, 0.35로 차이가 큼을 알 수 있다. 이 경우 라벨갯수가 40, 74로 약 2배 정도 차이가 나므로 긍정적인 결과를 보인 것 같다."
   ]
  },
  {
   "cell_type": "code",
   "execution_count": 89,
   "id": "b248a8e9",
   "metadata": {},
   "outputs": [
    {
     "data": {
      "text/plain": [
       "array([[ 1.00000000e+00,  3.23781891e-01,  9.97855281e-01,\n",
       "         9.87357170e-01,  1.70581187e-01,  5.06123578e-01,\n",
       "         6.76763550e-01,  8.22528522e-01,  1.47741242e-01,\n",
       "        -3.11630826e-01,  6.79090388e-01, -9.73174431e-02,\n",
       "         6.74171616e-01,  7.35863663e-01, -2.22600125e-01,\n",
       "         2.05999980e-01,  1.94203623e-01,  3.76168956e-01,\n",
       "        -1.04320881e-01, -4.26412691e-02,  9.69538973e-01,\n",
       "         2.97007644e-01,  9.65136514e-01,  9.41082460e-01,\n",
       "         1.19616140e-01,  4.13462823e-01,  5.26911462e-01,\n",
       "         7.44214198e-01,  1.63953335e-01,  7.06588569e-03],\n",
       "       [ 3.23781891e-01,  1.00000000e+00,  3.29533059e-01,\n",
       "         3.21085696e-01, -2.33885160e-02,  2.36702222e-01,\n",
       "         3.02417828e-01,  2.93464051e-01,  7.14009805e-02,\n",
       "        -7.64371834e-02,  2.75868676e-01,  3.86357623e-01,\n",
       "         2.81673115e-01,  2.59844987e-01,  6.61377735e-03,\n",
       "         1.91974611e-01,  1.43293077e-01,  1.63851025e-01,\n",
       "         9.12716776e-03,  5.44575196e-02,  3.52572947e-01,\n",
       "         9.12044589e-01,  3.58039575e-01,  3.43545947e-01,\n",
       "         7.75033588e-02,  2.77829592e-01,  3.01025224e-01,\n",
       "         2.95315843e-01,  1.05007910e-01,  1.19205351e-01],\n",
       "       [ 9.97855281e-01,  3.29533059e-01,  1.00000000e+00,\n",
       "         9.86506804e-01,  2.07278164e-01,  5.56936211e-01,\n",
       "         7.16135650e-01,  8.50977041e-01,  1.83027212e-01,\n",
       "        -2.61476908e-01,  6.91765014e-01, -8.67610783e-02,\n",
       "         6.93134890e-01,  7.44982694e-01, -2.02694026e-01,\n",
       "         2.50743681e-01,  2.28082345e-01,  4.07216916e-01,\n",
       "        -8.16293270e-02, -5.52339106e-03,  9.69476363e-01,\n",
       "         3.03038372e-01,  9.70386887e-01,  9.41549808e-01,\n",
       "         1.50549404e-01,  4.55774228e-01,  5.63879263e-01,\n",
       "         7.71240789e-01,  1.89115040e-01,  5.10185297e-02],\n",
       "       [ 9.87357170e-01,  3.21085696e-01,  9.86506804e-01,\n",
       "         1.00000000e+00,  1.77028377e-01,  4.98501682e-01,\n",
       "         6.85982829e-01,  8.23268869e-01,  1.51293079e-01,\n",
       "        -2.83109812e-01,  7.32562227e-01, -6.62802136e-02,\n",
       "         7.26628328e-01,  8.00085921e-01, -1.66776667e-01,\n",
       "         2.12582551e-01,  2.07660060e-01,  3.72320282e-01,\n",
       "        -7.24965882e-02, -1.98869632e-02,  9.62746086e-01,\n",
       "         2.87488627e-01,  9.59119574e-01,  9.59213326e-01,\n",
       "         1.23522939e-01,  3.90410309e-01,  5.12605920e-01,\n",
       "         7.22016626e-01,  1.43569914e-01,  3.73759735e-03],\n",
       "       [ 1.70581187e-01, -2.33885160e-02,  2.07278164e-01,\n",
       "         1.77028377e-01,  1.00000000e+00,  6.59123215e-01,\n",
       "         5.21983768e-01,  5.53695173e-01,  5.57774788e-01,\n",
       "         5.84792002e-01,  3.01467098e-01,  6.84064482e-02,\n",
       "         2.96091933e-01,  2.46552432e-01,  3.32375443e-01,\n",
       "         3.18943297e-01,  2.48395680e-01,  3.80675691e-01,\n",
       "         2.00774376e-01,  2.83606699e-01,  2.13120142e-01,\n",
       "         3.60717988e-02,  2.38852626e-01,  2.06718363e-01,\n",
       "         8.05324195e-01,  4.72468444e-01,  4.34925715e-01,\n",
       "         5.03053353e-01,  3.94309482e-01,  4.99316369e-01],\n",
       "       [ 5.06123578e-01,  2.36702222e-01,  5.56936211e-01,\n",
       "         4.98501682e-01,  6.59123215e-01,  1.00000000e+00,\n",
       "         8.83120670e-01,  8.31135043e-01,  6.02641048e-01,\n",
       "         5.65368663e-01,  4.97473446e-01,  4.62048307e-02,\n",
       "         5.48905265e-01,  4.55652852e-01,  1.35299268e-01,\n",
       "         7.38721790e-01,  5.70516871e-01,  6.42261851e-01,\n",
       "         2.29976591e-01,  5.07318127e-01,  5.35315398e-01,\n",
       "         2.48132833e-01,  5.90210428e-01,  5.09603806e-01,\n",
       "         5.65541166e-01,  8.65809040e-01,  8.16275250e-01,\n",
       "         8.15573224e-01,  5.10223430e-01,  6.87382323e-01],\n",
       "       [ 6.76763550e-01,  3.02417828e-01,  7.16135650e-01,\n",
       "         6.85982829e-01,  5.21983768e-01,  8.83120670e-01,\n",
       "         1.00000000e+00,  9.21391026e-01,  5.00666617e-01,\n",
       "         3.36783359e-01,  6.31924822e-01,  7.62183481e-02,\n",
       "         6.60390787e-01,  6.17426806e-01,  9.85637458e-02,\n",
       "         6.70278825e-01,  6.91270208e-01,  6.83259917e-01,\n",
       "         1.78009208e-01,  4.49300749e-01,  6.88236408e-01,\n",
       "         2.99878889e-01,  7.29564917e-01,  6.75987231e-01,\n",
       "         4.48822038e-01,  7.54968016e-01,  8.84102639e-01,\n",
       "         8.61323034e-01,  4.09464127e-01,  5.14929891e-01],\n",
       "       [ 8.22528522e-01,  2.93464051e-01,  8.50977041e-01,\n",
       "         8.23268869e-01,  5.53695173e-01,  8.31135043e-01,\n",
       "         9.21391026e-01,  1.00000000e+00,  4.62497388e-01,\n",
       "         1.66917383e-01,  6.98049834e-01,  2.14795819e-02,\n",
       "         7.10649872e-01,  6.90298540e-01,  2.76533084e-02,\n",
       "         4.90424250e-01,  4.39167068e-01,  6.15634131e-01,\n",
       "         9.53507869e-02,  2.57583746e-01,  8.30317631e-01,\n",
       "         2.92751713e-01,  8.55923128e-01,  8.09629620e-01,\n",
       "         4.52753054e-01,  6.67453677e-01,  7.52399498e-01,\n",
       "         9.10155314e-01,  3.75744145e-01,  3.68661134e-01],\n",
       "       [ 1.47741242e-01,  7.14009805e-02,  1.83027212e-01,\n",
       "         1.51293079e-01,  5.57774788e-01,  6.02641048e-01,\n",
       "         5.00666617e-01,  4.62497388e-01,  1.00000000e+00,\n",
       "         4.79921330e-01,  3.03379263e-01,  1.28052926e-01,\n",
       "         3.13892761e-01,  2.23970219e-01,  1.87321165e-01,\n",
       "         4.21659147e-01,  3.42627023e-01,  3.93297872e-01,\n",
       "         4.49136542e-01,  3.31786146e-01,  1.85727753e-01,\n",
       "         9.06506881e-02,  2.19168559e-01,  1.77193377e-01,\n",
       "         4.26675026e-01,  4.73200013e-01,  4.33721008e-01,\n",
       "         4.30296611e-01,  6.99825798e-01,  4.38413498e-01],\n",
       "       [-3.11630826e-01, -7.64371834e-02, -2.61476908e-01,\n",
       "        -2.83109812e-01,  5.84792002e-01,  5.65368663e-01,\n",
       "         3.36783359e-01,  1.66917383e-01,  4.79921330e-01,\n",
       "         1.00000000e+00,  1.10995073e-04,  1.64173966e-01,\n",
       "         3.98299316e-02, -9.01702475e-02,  4.01964425e-01,\n",
       "         5.59836691e-01,  4.46630322e-01,  3.41198044e-01,\n",
       "         3.45007397e-01,  6.88131577e-01, -2.53691495e-01,\n",
       "        -5.12692020e-02, -2.05151211e-01, -2.31854451e-01,\n",
       "         5.04942075e-01,  4.58798157e-01,  3.46233876e-01,\n",
       "         1.75325449e-01,  3.34018684e-01,  7.67296779e-01],\n",
       "       [ 6.79090388e-01,  2.75868676e-01,  6.91765014e-01,\n",
       "         7.32562227e-01,  3.01467098e-01,  4.97473446e-01,\n",
       "         6.31924822e-01,  6.98049834e-01,  3.03379263e-01,\n",
       "         1.10995073e-04,  1.00000000e+00,  2.13247337e-01,\n",
       "         9.72793677e-01,  9.51830112e-01,  1.64514220e-01,\n",
       "         3.56064576e-01,  3.32357538e-01,  5.13346441e-01,\n",
       "         2.40567362e-01,  2.27753533e-01,  7.15065195e-01,\n",
       "         1.94798557e-01,  7.19683804e-01,  7.51548476e-01,\n",
       "         1.41918553e-01,  2.87103166e-01,  3.80584635e-01,\n",
       "         5.31062328e-01,  9.45428304e-02,  4.95594325e-02],\n",
       "       [-9.73174431e-02,  3.86357623e-01, -8.67610783e-02,\n",
       "        -6.62802136e-02,  6.84064482e-02,  4.62048307e-02,\n",
       "         7.62183481e-02,  2.14795819e-02,  1.28052926e-01,\n",
       "         1.64173966e-01,  2.13247337e-01,  1.00000000e+00,\n",
       "         2.23170729e-01,  1.11567247e-01,  3.97242853e-01,\n",
       "         2.31699699e-01,  1.94998464e-01,  2.30283400e-01,\n",
       "         4.11620680e-01,  2.79722748e-01, -1.11690313e-01,\n",
       "         4.09002766e-01, -1.02241922e-01, -8.31949886e-02,\n",
       "        -7.36576591e-02, -9.24393536e-02, -6.89562205e-02,\n",
       "        -1.19637523e-01, -1.28214758e-01, -4.56545686e-02],\n",
       "       [ 6.74171616e-01,  2.81673115e-01,  6.93134890e-01,\n",
       "         7.26628328e-01,  2.96091933e-01,  5.48905265e-01,\n",
       "         6.60390787e-01,  7.10649872e-01,  3.13892761e-01,\n",
       "         3.98299316e-02,  9.72793677e-01,  2.23170729e-01,\n",
       "         1.00000000e+00,  9.37655407e-01,  1.51075331e-01,\n",
       "         4.16322368e-01,  3.62481582e-01,  5.56264084e-01,\n",
       "         2.66487092e-01,  2.44142773e-01,  6.97200593e-01,\n",
       "         2.00370854e-01,  7.21031310e-01,  7.30712973e-01,\n",
       "         1.30054392e-01,  3.41919445e-01,  4.18898816e-01,\n",
       "         5.54897231e-01,  1.09930434e-01,  8.54325721e-02],\n",
       "       [ 7.35863663e-01,  2.59844987e-01,  7.44982694e-01,\n",
       "         8.00085921e-01,  2.46552432e-01,  4.55652852e-01,\n",
       "         6.17426806e-01,  6.90298540e-01,  2.23970219e-01,\n",
       "        -9.01702475e-02,  9.51830112e-01,  1.11567247e-01,\n",
       "         9.37655407e-01,  1.00000000e+00,  7.51503381e-02,\n",
       "         2.84840057e-01,  2.70894726e-01,  4.15729568e-01,\n",
       "         1.34108980e-01,  1.27070903e-01,  7.57373189e-01,\n",
       "         1.96496649e-01,  7.61212636e-01,  8.11407961e-01,\n",
       "         1.25389431e-01,  2.83256538e-01,  3.85100136e-01,\n",
       "         5.38166314e-01,  7.41262916e-02,  1.75392951e-02],\n",
       "       [-2.22600125e-01,  6.61377735e-03, -2.02694026e-01,\n",
       "        -1.66776667e-01,  3.32375443e-01,  1.35299268e-01,\n",
       "         9.85637458e-02,  2.76533084e-02,  1.87321165e-01,\n",
       "         4.01964425e-01,  1.64514220e-01,  3.97242853e-01,\n",
       "         1.51075331e-01,  7.51503381e-02,  1.00000000e+00,\n",
       "         3.36696081e-01,  2.68684760e-01,  3.28429499e-01,\n",
       "         4.13506125e-01,  4.27374207e-01, -2.30690710e-01,\n",
       "        -7.47429649e-02, -2.17303755e-01, -1.82195478e-01,\n",
       "         3.14457456e-01, -5.55581387e-02, -5.82983867e-02,\n",
       "        -1.02006796e-01, -1.07342098e-01,  1.01480315e-01],\n",
       "       [ 2.05999980e-01,  1.91974611e-01,  2.50743681e-01,\n",
       "         2.12582551e-01,  3.18943297e-01,  7.38721790e-01,\n",
       "         6.70278825e-01,  4.90424250e-01,  4.21659147e-01,\n",
       "         5.59836691e-01,  3.56064576e-01,  2.31699699e-01,\n",
       "         4.16322368e-01,  2.84840057e-01,  3.36696081e-01,\n",
       "         1.00000000e+00,  8.01268343e-01,  7.44082668e-01,\n",
       "         3.94712835e-01,  8.03268818e-01,  2.04607166e-01,\n",
       "         1.43002583e-01,  2.60515840e-01,  1.99371329e-01,\n",
       "         2.27394232e-01,  6.78780354e-01,  6.39146698e-01,\n",
       "         4.83208327e-01,  2.77878431e-01,  5.90972763e-01],\n",
       "       [ 1.94203623e-01,  1.43293077e-01,  2.28082345e-01,\n",
       "         2.07660060e-01,  2.48395680e-01,  5.70516871e-01,\n",
       "         6.91270208e-01,  4.39167068e-01,  3.42627023e-01,\n",
       "         4.46630322e-01,  3.32357538e-01,  1.94998464e-01,\n",
       "         3.62481582e-01,  2.70894726e-01,  2.68684760e-01,\n",
       "         8.01268343e-01,  1.00000000e+00,  7.71803995e-01,\n",
       "         3.09428578e-01,  7.27372184e-01,  1.86903516e-01,\n",
       "         1.00240984e-01,  2.26680426e-01,  1.88352652e-01,\n",
       "         1.68481321e-01,  4.84857801e-01,  6.62564134e-01,\n",
       "         4.40472263e-01,  1.97787822e-01,  4.39329269e-01],\n",
       "       [ 3.76168956e-01,  1.63851025e-01,  4.07216916e-01,\n",
       "         3.72320282e-01,  3.80675691e-01,  6.42261851e-01,\n",
       "         6.83259917e-01,  6.15634131e-01,  3.93297872e-01,\n",
       "         3.41198044e-01,  5.13346441e-01,  2.30283400e-01,\n",
       "         5.56264084e-01,  4.15729568e-01,  3.28429499e-01,\n",
       "         7.44082668e-01,  7.71803995e-01,  1.00000000e+00,\n",
       "         3.12780223e-01,  6.11044139e-01,  3.58126669e-01,\n",
       "         8.67412099e-02,  3.94999252e-01,  3.42271162e-01,\n",
       "         2.15350597e-01,  4.52888377e-01,  5.49592375e-01,\n",
       "         6.02449606e-01,  1.43115669e-01,  3.10654551e-01],\n",
       "       [-1.04320881e-01,  9.12716776e-03, -8.16293270e-02,\n",
       "        -7.24965882e-02,  2.00774376e-01,  2.29976591e-01,\n",
       "         1.78009208e-01,  9.53507869e-02,  4.49136542e-01,\n",
       "         3.45007397e-01,  2.40567362e-01,  4.11620680e-01,\n",
       "         2.66487092e-01,  1.34108980e-01,  4.13506125e-01,\n",
       "         3.94712835e-01,  3.09428578e-01,  3.12780223e-01,\n",
       "         1.00000000e+00,  3.69078083e-01, -1.28120769e-01,\n",
       "        -7.74734202e-02, -1.03753044e-01, -1.10342743e-01,\n",
       "        -1.26617996e-02,  6.02548795e-02,  3.71190486e-02,\n",
       "        -3.04133964e-02,  3.89402485e-01,  7.80794763e-02],\n",
       "       [-4.26412691e-02,  5.44575196e-02, -5.52339106e-03,\n",
       "        -1.98869632e-02,  2.83606699e-01,  5.07318127e-01,\n",
       "         4.49300749e-01,  2.57583746e-01,  3.31786146e-01,\n",
       "         6.88131577e-01,  2.27753533e-01,  2.79722748e-01,\n",
       "         2.44142773e-01,  1.27070903e-01,  4.27374207e-01,\n",
       "         8.03268818e-01,  7.27372184e-01,  6.11044139e-01,\n",
       "         3.69078083e-01,  1.00000000e+00, -3.74876179e-02,\n",
       "        -3.19502887e-03, -1.00039763e-03, -2.27361473e-02,\n",
       "         1.70568316e-01,  3.90158842e-01,  3.79974661e-01,\n",
       "         2.15204013e-01,  1.11093956e-01,  5.91328066e-01],\n",
       "       [ 9.69538973e-01,  3.52572947e-01,  9.69476363e-01,\n",
       "         9.62746086e-01,  2.13120142e-01,  5.35315398e-01,\n",
       "         6.88236408e-01,  8.30317631e-01,  1.85727753e-01,\n",
       "        -2.53691495e-01,  7.15065195e-01, -1.11690313e-01,\n",
       "         6.97200593e-01,  7.57373189e-01, -2.30690710e-01,\n",
       "         2.04607166e-01,  1.86903516e-01,  3.58126669e-01,\n",
       "        -1.28120769e-01, -3.74876179e-02,  1.00000000e+00,\n",
       "         3.59920754e-01,  9.93707916e-01,  9.84014564e-01,\n",
       "         2.16574431e-01,  4.75820037e-01,  5.73974708e-01,\n",
       "         7.87423852e-01,  2.43529204e-01,  9.34919787e-02],\n",
       "       [ 2.97007644e-01,  9.12044589e-01,  3.03038372e-01,\n",
       "         2.87488627e-01,  3.60717988e-02,  2.48132833e-01,\n",
       "         2.99878889e-01,  2.92751713e-01,  9.06506881e-02,\n",
       "        -5.12692020e-02,  1.94798557e-01,  4.09002766e-01,\n",
       "         2.00370854e-01,  1.96496649e-01, -7.47429649e-02,\n",
       "         1.43002583e-01,  1.00240984e-01,  8.67412099e-02,\n",
       "        -7.74734202e-02, -3.19502887e-03,  3.59920754e-01,\n",
       "         1.00000000e+00,  3.65098245e-01,  3.45842283e-01,\n",
       "         2.25429415e-01,  3.60832339e-01,  3.68365607e-01,\n",
       "         3.59754610e-01,  2.33027461e-01,  2.19122425e-01],\n",
       "       [ 9.65136514e-01,  3.58039575e-01,  9.70386887e-01,\n",
       "         9.59119574e-01,  2.38852626e-01,  5.90210428e-01,\n",
       "         7.29564917e-01,  8.55923128e-01,  2.19168559e-01,\n",
       "        -2.05151211e-01,  7.19683804e-01, -1.02241922e-01,\n",
       "         7.21031310e-01,  7.61212636e-01, -2.17303755e-01,\n",
       "         2.60515840e-01,  2.26680426e-01,  3.94999252e-01,\n",
       "        -1.03753044e-01, -1.00039763e-03,  9.93707916e-01,\n",
       "         3.65098245e-01,  1.00000000e+00,  9.77578091e-01,\n",
       "         2.36774604e-01,  5.29407690e-01,  6.18344080e-01,\n",
       "         8.16322102e-01,  2.69492769e-01,  1.38956862e-01],\n",
       "       [ 9.41082460e-01,  3.43545947e-01,  9.41549808e-01,\n",
       "         9.59213326e-01,  2.06718363e-01,  5.09603806e-01,\n",
       "         6.75987231e-01,  8.09629620e-01,  1.77193377e-01,\n",
       "        -2.31854451e-01,  7.51548476e-01, -8.31949886e-02,\n",
       "         7.30712973e-01,  8.11407961e-01, -1.82195478e-01,\n",
       "         1.99371329e-01,  1.88352652e-01,  3.42271162e-01,\n",
       "        -1.10342743e-01, -2.27361473e-02,  9.84014564e-01,\n",
       "         3.45842283e-01,  9.77578091e-01,  1.00000000e+00,\n",
       "         2.09145334e-01,  4.38296284e-01,  5.43330525e-01,\n",
       "         7.47418802e-01,  2.09145508e-01,  7.96470340e-02],\n",
       "       [ 1.19616140e-01,  7.75033588e-02,  1.50549404e-01,\n",
       "         1.23522939e-01,  8.05324195e-01,  5.65541166e-01,\n",
       "         4.48822038e-01,  4.52753054e-01,  4.26675026e-01,\n",
       "         5.04942075e-01,  1.41918553e-01, -7.36576591e-02,\n",
       "         1.30054392e-01,  1.25389431e-01,  3.14457456e-01,\n",
       "         2.27394232e-01,  1.68481321e-01,  2.15350597e-01,\n",
       "        -1.26617996e-02,  1.70568316e-01,  2.16574431e-01,\n",
       "         2.25429415e-01,  2.36774604e-01,  2.09145334e-01,\n",
       "         1.00000000e+00,  5.68186517e-01,  5.18523293e-01,\n",
       "         5.47690903e-01,  4.93838330e-01,  6.17624192e-01],\n",
       "       [ 4.13462823e-01,  2.77829592e-01,  4.55774228e-01,\n",
       "         3.90410309e-01,  4.72468444e-01,  8.65809040e-01,\n",
       "         7.54968016e-01,  6.67453677e-01,  4.73200013e-01,\n",
       "         4.58798157e-01,  2.87103166e-01, -9.24393536e-02,\n",
       "         3.41919445e-01,  2.83256538e-01, -5.55581387e-02,\n",
       "         6.78780354e-01,  4.84857801e-01,  4.52888377e-01,\n",
       "         6.02548795e-02,  3.90158842e-01,  4.75820037e-01,\n",
       "         3.60832339e-01,  5.29407690e-01,  4.38296284e-01,\n",
       "         5.68186517e-01,  1.00000000e+00,  8.92260899e-01,\n",
       "         8.01080365e-01,  6.14440501e-01,  8.10454856e-01],\n",
       "       [ 5.26911462e-01,  3.01025224e-01,  5.63879263e-01,\n",
       "         5.12605920e-01,  4.34925715e-01,  8.16275250e-01,\n",
       "         8.84102639e-01,  7.52399498e-01,  4.33721008e-01,\n",
       "         3.46233876e-01,  3.80584635e-01, -6.89562205e-02,\n",
       "         4.18898816e-01,  3.85100136e-01, -5.82983867e-02,\n",
       "         6.39146698e-01,  6.62564134e-01,  5.49592375e-01,\n",
       "         3.71190486e-02,  3.79974661e-01,  5.73974708e-01,\n",
       "         3.68365607e-01,  6.18344080e-01,  5.43330525e-01,\n",
       "         5.18523293e-01,  8.92260899e-01,  1.00000000e+00,\n",
       "         8.55433860e-01,  5.32519729e-01,  6.86510921e-01],\n",
       "       [ 7.44214198e-01,  2.95315843e-01,  7.71240789e-01,\n",
       "         7.22016626e-01,  5.03053353e-01,  8.15573224e-01,\n",
       "         8.61323034e-01,  9.10155314e-01,  4.30296611e-01,\n",
       "         1.75325449e-01,  5.31062328e-01, -1.19637523e-01,\n",
       "         5.54897231e-01,  5.38166314e-01, -1.02006796e-01,\n",
       "         4.83208327e-01,  4.40472263e-01,  6.02449606e-01,\n",
       "        -3.04133964e-02,  2.15204013e-01,  7.87423852e-01,\n",
       "         3.59754610e-01,  8.16322102e-01,  7.47418802e-01,\n",
       "         5.47690903e-01,  8.01080365e-01,  8.55433860e-01,\n",
       "         1.00000000e+00,  5.02528494e-01,  5.11114146e-01],\n",
       "       [ 1.63953335e-01,  1.05007910e-01,  1.89115040e-01,\n",
       "         1.43569914e-01,  3.94309482e-01,  5.10223430e-01,\n",
       "         4.09464127e-01,  3.75744145e-01,  6.99825798e-01,\n",
       "         3.34018684e-01,  9.45428304e-02, -1.28214758e-01,\n",
       "         1.09930434e-01,  7.41262916e-02, -1.07342098e-01,\n",
       "         2.77878431e-01,  1.97787822e-01,  1.43115669e-01,\n",
       "         3.89402485e-01,  1.11093956e-01,  2.43529204e-01,\n",
       "         2.33027461e-01,  2.69492769e-01,  2.09145508e-01,\n",
       "         4.93838330e-01,  6.14440501e-01,  5.32519729e-01,\n",
       "         5.02528494e-01,  1.00000000e+00,  5.37848206e-01],\n",
       "       [ 7.06588569e-03,  1.19205351e-01,  5.10185297e-02,\n",
       "         3.73759735e-03,  4.99316369e-01,  6.87382323e-01,\n",
       "         5.14929891e-01,  3.68661134e-01,  4.38413498e-01,\n",
       "         7.67296779e-01,  4.95594325e-02, -4.56545686e-02,\n",
       "         8.54325721e-02,  1.75392951e-02,  1.01480315e-01,\n",
       "         5.90972763e-01,  4.39329269e-01,  3.10654551e-01,\n",
       "         7.80794763e-02,  5.91328066e-01,  9.34919787e-02,\n",
       "         2.19122425e-01,  1.38956862e-01,  7.96470340e-02,\n",
       "         6.17624192e-01,  8.10454856e-01,  6.86510921e-01,\n",
       "         5.11114146e-01,  5.37848206e-01,  1.00000000e+00]])"
      ]
     },
     "execution_count": 89,
     "metadata": {},
     "output_type": "execute_result"
    }
   ],
   "source": [
    "import numpy as np\n",
    "\n",
    "#모든 속성에 대해서 한번에 그래프를 그릴수 없으므로 상관관계를 수치를 통해 데이터를 파악한다.\n",
    "mat=np.corrcoef(breast_cancer.data.T)  # 열로 읽으므로 Transpose 시켜줘야 한다.\n",
    "mat"
   ]
  },
  {
   "cell_type": "code",
   "execution_count": 90,
   "id": "3a142bd7",
   "metadata": {},
   "outputs": [
    {
     "name": "stdout",
     "output_type": "stream",
     "text": [
      "\n"
     ]
    },
    {
     "data": {
      "image/png": "[encoded data removed]",
      "text/plain": [
       "<Figure size 1008x1008 with 2 Axes>"
      ]
     },
     "metadata": {
      "needs_background": "light"
     },
     "output_type": "display_data"
    }
   ],
   "source": [
    "# 속성간의 관계를 한 눈에 파악\n",
    "fig=plt.figure(figsize=[14,14])\n",
    "plt.title('Breast Cancer - Correlation Coefficient',fontsize=20)\n",
    "plt.imshow(mat, interpolation='none', vmin=-1, vmax=1)\n",
    "plt.colorbar(shrink=0.7)\n",
    "plt.xticks(range(30),breast_cancer.feature_names,rotation=90,ha='center')\n",
    "plt.yticks(range(30))\n",
    "print('')"
   ]
  },
  {
   "cell_type": "code",
   "execution_count": null,
   "id": "969d18d6",
   "metadata": {},
   "outputs": [],
   "source": [
    "시각화에 관심이 많아서 검색하다 코드가 나와 진행해봄. ㅎㅎ"
   ]
  }
 ],
 "metadata": {
  "kernelspec": {
   "display_name": "Python 3 (ipykernel)",
   "language": "python",
   "name": "python3"
  },
  "language_info": {
   "codemirror_mode": {
    "name": "ipython",
    "version": 3
   },
   "file_extension": ".py",
   "mimetype": "text/x-python",
   "name": "python",
   "nbconvert_exporter": "python",
   "pygments_lexer": "ipython3",
   "version": "3.9.7"
  }
 },
 "nbformat": 4,
 "nbformat_minor": 5
}
